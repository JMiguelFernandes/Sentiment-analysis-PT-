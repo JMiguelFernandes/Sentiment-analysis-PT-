{
 "cells": [
  {
   "cell_type": "code",
   "execution_count": 1,
   "metadata": {
    "execution": {
     "iopub.execute_input": "2021-05-31T13:18:19.610379Z",
     "iopub.status.busy": "2021-05-31T13:18:19.610379Z",
     "iopub.status.idle": "2021-05-31T13:18:20.006353Z",
     "shell.execute_reply": "2021-05-31T13:18:20.006353Z",
     "shell.execute_reply.started": "2021-05-31T13:18:19.610379Z"
    }
   },
   "outputs": [],
   "source": [
    "import pandas as pd\n",
    "import tweepy as tw\n",
    "import os\n",
    "import time"
   ]
  },
  {
   "cell_type": "code",
   "execution_count": 2,
   "metadata": {
    "execution": {
     "iopub.execute_input": "2021-05-31T13:18:20.024312Z",
     "iopub.status.busy": "2021-05-31T13:18:20.024312Z",
     "iopub.status.idle": "2021-05-31T13:18:20.052237Z",
     "shell.execute_reply": "2021-05-31T13:18:20.051270Z",
     "shell.execute_reply.started": "2021-05-31T13:18:20.024312Z"
    }
   },
   "outputs": [],
   "source": [
    "def get_tweets(keyword):\n",
    "    '''This function submits a query to the twitter API to search for tweets in portuguese from users in Portugal containing\n",
    "    a keyword (excluding retweets). Tweet ids, date of creation and text are stored as a dataframe and written to a csv file \n",
    "    in the data folder. \n",
    "    To avoid duplicates, a separate txt file is kept in the data folder where the most recent id is logged; every time the \n",
    "    function is used, this id is used in the query and updated in the txt file. When a query is run for a certain keyword for \n",
    "    the first time (no txt file present) it is submitted with no id limit.\n",
    "    '''\n",
    "    \n",
    "    \n",
    "    # Checking if there is already a file with the since_id for this keyword:\n",
    "    \n",
    "    try:\n",
    "        myfile = open(f\"data/{keyword}.txt\", \"r\")\n",
    "        since_id = myfile.read()\n",
    "        myfile.close()\n",
    "    except FileNotFoundError:\n",
    "        since_id = \"\"\n",
    "        \n",
    "        \n",
    "    # Authentication\n",
    "    \n",
    "    consumer_secret = os.getenv(\"CONSUMER_SECRET\")\n",
    "    consumer_key = os.getenv(\"CONSUMER_KEY\")\n",
    "    \n",
    "    auth = tw.OAuthHandler(consumer_key, consumer_secret)\n",
    "    api = tw.API(auth)\n",
    "    \n",
    "    \n",
    "    # Query submission; full results are stored in a dataframe temporarily\n",
    "    \n",
    "    coords = \"39.596860,-8.036780,288.85289km\" # These coordinates encompass all of mainland Portugal and a chunk of Spain\n",
    "    \n",
    "    \n",
    "    data = []\n",
    "    \n",
    "    if since_id:\n",
    "        for tweet in tw.Cursor(api.search, \n",
    "                               q=f\"{keyword} -filter:retweets\", \n",
    "                               since_id=since_id,\n",
    "                               lang=\"pt\", \n",
    "                               tweet_mode=\"extended\", \n",
    "                               geocode=coords).items(500):\n",
    "            data.append(tweet)\n",
    "    else:\n",
    "        for tweet in tw.Cursor(api.search, \n",
    "                               q=f\"{keyword} -filter:retweets\",\n",
    "                               lang=\"pt\", \n",
    "                               tweet_mode=\"extended\", \n",
    "                               geocode=coords).items(500):\n",
    "            data.append(tweet)        \n",
    "    \n",
    "    \n",
    "    # Building a dataframe with id, created_at and full_text\n",
    "    \n",
    "    tweet_df = pd.DataFrame(\n",
    "        [[data[i]._json[\"id\"], data[i]._json[\"created_at\"], data[i]._json[\"full_text\"]] for i in range(len(data))], \n",
    "        columns = [\"id\", \"created_at\", \"full_text\"]\n",
    "    )\n",
    "    \n",
    "    tweet_df[\"created_at\"] = pd.to_datetime(tweet_df[\"created_at\"])\n",
    "    \n",
    "    \n",
    "    # Appending all search results to the respective csv in the data folder\n",
    "    \n",
    "    n_new_lines = len(tweet_df)\n",
    "\n",
    "    if n_new_lines:\n",
    "        tweet_df.to_csv(\n",
    "            f\"data/raw_tweets_{keyword}.csv\", \n",
    "            mode=\"a\", \n",
    "            header=False, \n",
    "            index=False)\n",
    "    \n",
    "    print(f\"Successfully wrote {n_new_lines} lines to the data/raw_tweets_{keyword}.csv\")\n",
    "    \n",
    "    \n",
    "    # Updating since_id in txt file\n",
    "    if n_new_lines:\n",
    "        myfile = open(f\"data/{keyword}.txt\", \"w+\")\n",
    "        myfile.write(str(tweet_df.loc[0,\"id\"]))\n",
    "        myfile.close()"
   ]
  },
  {
   "cell_type": "code",
   "execution_count": 3,
   "metadata": {
    "execution": {
     "iopub.execute_input": "2021-05-31T13:18:20.236082Z",
     "iopub.status.busy": "2021-05-31T13:18:20.236082Z",
     "iopub.status.idle": "2021-05-31T13:18:20.253006Z",
     "shell.execute_reply": "2021-05-31T13:18:20.252039Z",
     "shell.execute_reply.started": "2021-05-31T13:18:20.236082Z"
    }
   },
   "outputs": [],
   "source": [
    "keywords = [\"feliz\",\n",
    "            \"amor\",\n",
    "            \"obrigado OR obrigada\",\n",
    "            \"ótimo OR ótima\",\n",
    "            \"parabéns\",\n",
    "            \"fantástico OR fantástica\", \n",
    "            \"maravilha OR maravilhoso OR maravilhosa\",\n",
    "            \"fml\",\n",
    "            \"péssimo OR péssima\",\n",
    "            \"trágico OR trágica\",\n",
    "            \"horrível\",\n",
    "            \"mau OR má\",\n",
    "            \"terrível\", \n",
    "            \"detesto OR detestei\"]"
   ]
  },
  {
   "cell_type": "code",
   "execution_count": 4,
   "metadata": {
    "execution": {
     "iopub.execute_input": "2021-05-31T13:18:22.038380Z",
     "iopub.status.busy": "2021-05-31T13:18:22.038380Z",
     "iopub.status.idle": "2021-05-31T13:24:09.798593Z",
     "shell.execute_reply": "2021-05-31T13:24:09.797601Z",
     "shell.execute_reply.started": "2021-05-31T13:18:22.038380Z"
    }
   },
   "outputs": [
    {
     "name": "stdout",
     "output_type": "stream",
     "text": [
      "Successfully wrote 500 lines to the data/raw_tweets_feliz.csv\n",
      "Successfully wrote 500 lines to the data/raw_tweets_amor.csv\n",
      "Successfully wrote 500 lines to the data/raw_tweets_obrigado OR obrigada.csv\n",
      "Successfully wrote 369 lines to the data/raw_tweets_ótimo OR ótima.csv\n",
      "Successfully wrote 500 lines to the data/raw_tweets_parabéns.csv\n",
      "Successfully wrote 273 lines to the data/raw_tweets_fantástico OR fantástica.csv\n",
      "Successfully wrote 500 lines to the data/raw_tweets_maravilha OR maravilhoso OR maravilhosa.csv\n",
      "Successfully wrote 22 lines to the data/raw_tweets_fml.csv\n",
      "Successfully wrote 333 lines to the data/raw_tweets_péssimo OR péssima.csv\n",
      "Successfully wrote 31 lines to the data/raw_tweets_trágico OR trágica.csv\n",
      "Successfully wrote 500 lines to the data/raw_tweets_horrível.csv\n",
      "Successfully wrote 500 lines to the data/raw_tweets_mau OR má.csv\n",
      "Successfully wrote 84 lines to the data/raw_tweets_terrível.csv\n",
      "Successfully wrote 152 lines to the data/raw_tweets_detesto OR detestei.csv\n"
     ]
    }
   ],
   "source": [
    "for keyword in keywords:\n",
    "    get_tweets(keyword)"
   ]
  }
 ],
 "metadata": {
  "kernelspec": {
   "display_name": "Python 3 (ipykernel)",
   "language": "python",
   "name": "python3"
  },
  "language_info": {
   "codemirror_mode": {
    "name": "ipython",
    "version": 3
   },
   "file_extension": ".py",
   "mimetype": "text/x-python",
   "name": "python",
   "nbconvert_exporter": "python",
   "pygments_lexer": "ipython3",
   "version": "3.9.6"
  }
 },
 "nbformat": 4,
 "nbformat_minor": 4
}
