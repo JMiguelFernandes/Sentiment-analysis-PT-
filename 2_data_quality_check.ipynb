{
 "cells": [
  {
   "cell_type": "markdown",
   "id": "b9243c5d-51c7-4aa5-a657-6e987af3bd1f",
   "metadata": {},
   "source": [
    "## Data quality control\n",
    "As a sanity check, I decided to look at a couple of random samples of 50 tweets of three keywords and manually annotate them as positive, negative or neutral to make sure that they were mostly positive/negative as I intended."
   ]
  },
  {
   "cell_type": "code",
   "execution_count": 14,
   "id": "1599fed0-07af-47ac-aec7-0630e2392434",
   "metadata": {
    "execution": {
     "iopub.execute_input": "2021-06-16T10:00:54.147670Z",
     "iopub.status.busy": "2021-06-16T10:00:54.147670Z",
     "iopub.status.idle": "2021-06-16T10:00:54.165535Z",
     "shell.execute_reply": "2021-06-16T10:00:54.164549Z",
     "shell.execute_reply.started": "2021-06-16T10:00:54.147670Z"
    },
    "tags": []
   },
   "outputs": [],
   "source": [
    "import pandas as pd\n",
    "import pickle\n",
    "import random"
   ]
  },
  {
   "cell_type": "code",
   "execution_count": 2,
   "id": "3d7d4869-76ef-4281-ac6c-0d5eb0e264b6",
   "metadata": {
    "execution": {
     "iopub.execute_input": "2021-06-16T09:47:26.181120Z",
     "iopub.status.busy": "2021-06-16T09:47:26.180122Z",
     "iopub.status.idle": "2021-06-16T09:47:27.612437Z",
     "shell.execute_reply": "2021-06-16T09:47:27.611469Z",
     "shell.execute_reply.started": "2021-06-16T09:47:26.181120Z"
    }
   },
   "outputs": [
    {
     "data": {
      "text/html": [
       "<div>\n",
       "<style scoped>\n",
       "    .dataframe tbody tr th:only-of-type {\n",
       "        vertical-align: middle;\n",
       "    }\n",
       "\n",
       "    .dataframe tbody tr th {\n",
       "        vertical-align: top;\n",
       "    }\n",
       "\n",
       "    .dataframe thead th {\n",
       "        text-align: right;\n",
       "    }\n",
       "</style>\n",
       "<table border=\"1\" class=\"dataframe\">\n",
       "  <thead>\n",
       "    <tr style=\"text-align: right;\">\n",
       "      <th></th>\n",
       "      <th>id</th>\n",
       "      <th>created_at</th>\n",
       "      <th>tweet</th>\n",
       "      <th>keyword</th>\n",
       "      <th>target</th>\n",
       "      <th>clean_tweet</th>\n",
       "    </tr>\n",
       "  </thead>\n",
       "  <tbody>\n",
       "    <tr>\n",
       "      <th>0</th>\n",
       "      <td>1396047477695029249</td>\n",
       "      <td>2021-05-22 10:17:10+00:00</td>\n",
       "      <td>Tava tão feliz c o apartamento mas acho q é golpe</td>\n",
       "      <td>feliz</td>\n",
       "      <td>positive</td>\n",
       "      <td>tav tao apart ach golp</td>\n",
       "    </tr>\n",
       "    <tr>\n",
       "      <th>1</th>\n",
       "      <td>1396047411047542785</td>\n",
       "      <td>2021-05-22 10:16:54+00:00</td>\n",
       "      <td>@rita_castro1 Bom dia Sweetie!! Sábado feliz!!...</td>\n",
       "      <td>feliz</td>\n",
       "      <td>positive</td>\n",
       "      <td>bom dia sweti ! sab ! ☕</td>\n",
       "    </tr>\n",
       "    <tr>\n",
       "      <th>2</th>\n",
       "      <td>1396047195921604611</td>\n",
       "      <td>2021-05-22 10:16:03+00:00</td>\n",
       "      <td>Bom dia e um feliz sábado a todos ✌🏼💜🍀. 😘😘 htt...</td>\n",
       "      <td>feliz</td>\n",
       "      <td>positive</td>\n",
       "      <td>bom dia sab tod ✌</td>\n",
       "    </tr>\n",
       "    <tr>\n",
       "      <th>3</th>\n",
       "      <td>1396046918153904128</td>\n",
       "      <td>2021-05-22 10:14:57+00:00</td>\n",
       "      <td>Eu estou tão feliz pela Hande ela merece tudo !</td>\n",
       "      <td>feliz</td>\n",
       "      <td>positive</td>\n",
       "      <td>tao hand merec tud !</td>\n",
       "    </tr>\n",
       "    <tr>\n",
       "      <th>4</th>\n",
       "      <td>1396045926016368642</td>\n",
       "      <td>2021-05-22 10:11:00+00:00</td>\n",
       "      <td>Estou tao feliz finalmente em Castelo Branco c...</td>\n",
       "      <td>feliz</td>\n",
       "      <td>positive</td>\n",
       "      <td>tao final castel branc xuxu</td>\n",
       "    </tr>\n",
       "    <tr>\n",
       "      <th>...</th>\n",
       "      <td>...</td>\n",
       "      <td>...</td>\n",
       "      <td>...</td>\n",
       "      <td>...</td>\n",
       "      <td>...</td>\n",
       "      <td>...</td>\n",
       "    </tr>\n",
       "    <tr>\n",
       "      <th>23327</th>\n",
       "      <td>1397872771640827908</td>\n",
       "      <td>2021-05-27 11:10:14+00:00</td>\n",
       "      <td>Eu: detesto musicais 🤮🤮🤮🤮\\n\\nAlso eu a dois mi...</td>\n",
       "      <td>detesto OR detestei</td>\n",
       "      <td>negative</td>\n",
       "      <td>music als doi minut episodi music anatom grey ...</td>\n",
       "    </tr>\n",
       "    <tr>\n",
       "      <th>23328</th>\n",
       "      <td>1397867369276579840</td>\n",
       "      <td>2021-05-27 10:48:46+00:00</td>\n",
       "      <td>Detesto está situação poha</td>\n",
       "      <td>detesto OR detestei</td>\n",
       "      <td>negative</td>\n",
       "      <td>situ poh</td>\n",
       "    </tr>\n",
       "    <tr>\n",
       "      <th>23329</th>\n",
       "      <td>1397839222883688449</td>\n",
       "      <td>2021-05-27 08:56:55+00:00</td>\n",
       "      <td>Que linda noite de sono ao sonhar com a pessoa...</td>\n",
       "      <td>detesto OR detestei</td>\n",
       "      <td>negative</td>\n",
       "      <td>lind noit son sonh pesso conhec faculdad ent ta</td>\n",
       "    </tr>\n",
       "    <tr>\n",
       "      <th>23330</th>\n",
       "      <td>1397833381099061248</td>\n",
       "      <td>2021-05-27 08:33:43+00:00</td>\n",
       "      <td>@Joaohpr Também detesto e evito sempre que exi...</td>\n",
       "      <td>detesto OR detestei</td>\n",
       "      <td>negative</td>\n",
       "      <td>evit sempr exist altern fac tap ryana ra tem…</td>\n",
       "    </tr>\n",
       "    <tr>\n",
       "      <th>23331</th>\n",
       "      <td>1397823272058855425</td>\n",
       "      <td>2021-05-27 07:53:33+00:00</td>\n",
       "      <td>Eu adoro roupa, adoro moda.. Mas trabalhar num...</td>\n",
       "      <td>detesto OR detestei</td>\n",
       "      <td>negative</td>\n",
       "      <td>ador roup ador mod trabalh loj roup lid pesso ...</td>\n",
       "    </tr>\n",
       "  </tbody>\n",
       "</table>\n",
       "<p>22842 rows × 6 columns</p>\n",
       "</div>"
      ],
      "text/plain": [
       "                        id                 created_at  \\\n",
       "0      1396047477695029249  2021-05-22 10:17:10+00:00   \n",
       "1      1396047411047542785  2021-05-22 10:16:54+00:00   \n",
       "2      1396047195921604611  2021-05-22 10:16:03+00:00   \n",
       "3      1396046918153904128  2021-05-22 10:14:57+00:00   \n",
       "4      1396045926016368642  2021-05-22 10:11:00+00:00   \n",
       "...                    ...                        ...   \n",
       "23327  1397872771640827908  2021-05-27 11:10:14+00:00   \n",
       "23328  1397867369276579840  2021-05-27 10:48:46+00:00   \n",
       "23329  1397839222883688449  2021-05-27 08:56:55+00:00   \n",
       "23330  1397833381099061248  2021-05-27 08:33:43+00:00   \n",
       "23331  1397823272058855425  2021-05-27 07:53:33+00:00   \n",
       "\n",
       "                                                   tweet              keyword  \\\n",
       "0      Tava tão feliz c o apartamento mas acho q é golpe                feliz   \n",
       "1      @rita_castro1 Bom dia Sweetie!! Sábado feliz!!...                feliz   \n",
       "2      Bom dia e um feliz sábado a todos ✌🏼💜🍀. 😘😘 htt...                feliz   \n",
       "3        Eu estou tão feliz pela Hande ela merece tudo !                feliz   \n",
       "4      Estou tao feliz finalmente em Castelo Branco c...                feliz   \n",
       "...                                                  ...                  ...   \n",
       "23327  Eu: detesto musicais 🤮🤮🤮🤮\\n\\nAlso eu a dois mi...  detesto OR detestei   \n",
       "23328                         Detesto está situação poha  detesto OR detestei   \n",
       "23329  Que linda noite de sono ao sonhar com a pessoa...  detesto OR detestei   \n",
       "23330  @Joaohpr Também detesto e evito sempre que exi...  detesto OR detestei   \n",
       "23331  Eu adoro roupa, adoro moda.. Mas trabalhar num...  detesto OR detestei   \n",
       "\n",
       "         target                                        clean_tweet  \n",
       "0      positive                             tav tao apart ach golp  \n",
       "1      positive                            bom dia sweti ! sab ! ☕  \n",
       "2      positive                                  bom dia sab tod ✌  \n",
       "3      positive                               tao hand merec tud !  \n",
       "4      positive                        tao final castel branc xuxu  \n",
       "...         ...                                                ...  \n",
       "23327  negative  music als doi minut episodi music anatom grey ...  \n",
       "23328  negative                                           situ poh  \n",
       "23329  negative    lind noit son sonh pesso conhec faculdad ent ta  \n",
       "23330  negative      evit sempr exist altern fac tap ryana ra tem…  \n",
       "23331  negative  ador roup ador mod trabalh loj roup lid pesso ...  \n",
       "\n",
       "[22842 rows x 6 columns]"
      ]
     },
     "execution_count": 2,
     "metadata": {},
     "output_type": "execute_result"
    }
   ],
   "source": [
    "infile = open(\"data/df\", \"rb\")\n",
    "df = pickle.load(infile)\n",
    "infile.close()\n",
    "df"
   ]
  },
  {
   "cell_type": "code",
   "execution_count": 21,
   "id": "ef41c83b-6a7e-4bb6-9207-69e98a59b6b8",
   "metadata": {
    "execution": {
     "iopub.execute_input": "2021-06-16T10:07:37.134340Z",
     "iopub.status.busy": "2021-06-16T10:07:37.134340Z",
     "iopub.status.idle": "2021-06-16T10:07:37.144313Z",
     "shell.execute_reply": "2021-06-16T10:07:37.143315Z",
     "shell.execute_reply.started": "2021-06-16T10:07:37.134340Z"
    }
   },
   "outputs": [],
   "source": [
    "positive_keywords = [\"feliz\",\n",
    "                     \"amor\",\n",
    "                     \"obrigado OR obrigada\",\n",
    "                     \"ótimo OR ótima\",\n",
    "                     \"parabéns\",\n",
    "                     \"fantástico OR fantástica\", \n",
    "                     \"maravilha OR maravilhoso OR maravilhosa\"]\n",
    "            \n",
    "                     \n",
    "negative_keywords = [\"fml\",\n",
    "                     \"péssimo OR péssima\",\n",
    "                     \"trágico OR trágica\",\n",
    "                     \"horrível\",\n",
    "                     \"mau OR má\",\n",
    "                     \"terrível\", \n",
    "                     \"detesto OR detestei\"]"
   ]
  },
  {
   "cell_type": "code",
   "execution_count": 31,
   "id": "e808cb35-7386-491e-850d-af0f649679e7",
   "metadata": {
    "execution": {
     "iopub.execute_input": "2021-06-17T08:30:15.058412Z",
     "iopub.status.busy": "2021-06-17T08:30:14.961551Z",
     "iopub.status.idle": "2021-06-17T08:30:16.232014Z",
     "shell.execute_reply": "2021-06-17T08:30:16.219535Z",
     "shell.execute_reply.started": "2021-06-17T08:30:15.036580Z"
    },
    "tags": []
   },
   "outputs": [],
   "source": [
    "evals_df = pd.DataFrame()"
   ]
  },
  {
   "cell_type": "code",
   "execution_count": 15,
   "id": "fddc7986-1bc6-4a16-831e-36c8e5ddf17a",
   "metadata": {
    "execution": {
     "iopub.execute_input": "2021-06-16T10:01:33.630327Z",
     "iopub.status.busy": "2021-06-16T10:01:33.630327Z",
     "iopub.status.idle": "2021-06-16T10:01:33.634316Z",
     "shell.execute_reply": "2021-06-16T10:01:33.633337Z",
     "shell.execute_reply.started": "2021-06-16T10:01:33.630327Z"
    },
    "tags": []
   },
   "outputs": [],
   "source": [
    "evals = []"
   ]
  },
  {
   "cell_type": "code",
   "execution_count": 17,
   "id": "b34eecc6-ff38-4a39-ab68-c482c07cee8d",
   "metadata": {
    "collapsed": true,
    "execution": {
     "iopub.execute_input": "2021-06-16T10:01:49.255285Z",
     "iopub.status.busy": "2021-06-16T10:01:49.255285Z",
     "iopub.status.idle": "2021-06-16T10:06:27.539077Z",
     "shell.execute_reply": "2021-06-16T10:06:27.539077Z",
     "shell.execute_reply.started": "2021-06-16T10:01:49.255285Z"
    },
    "jupyter": {
     "outputs_hidden": true
    },
    "tags": []
   },
   "outputs": [
    {
     "name": "stdout",
     "output_type": "stream",
     "text": [
      "@Efeito2021 TANBEM FIQUEI FELIZ POR ELAAAA\n"
     ]
    },
    {
     "name": "stdin",
     "output_type": "stream",
     "text": [
      "p for positive, n for negative, m for mixed, q to exit p\n"
     ]
    },
    {
     "name": "stdout",
     "output_type": "stream",
     "text": [
      "\n",
      "\n",
      "eu toda feliz a pensar que estava de folga amanhã e afinal é só na terça lol, mas eu fiz mal a alguém crl?\n"
     ]
    },
    {
     "name": "stdin",
     "output_type": "stream",
     "text": [
      "p for positive, n for negative, m for mixed, q to exit m\n"
     ]
    },
    {
     "name": "stdout",
     "output_type": "stream",
     "text": [
      "\n",
      "\n",
      "Estou exausta com 2 horas de sono mas extremamente feliz\n"
     ]
    },
    {
     "name": "stdin",
     "output_type": "stream",
     "text": [
      "p for positive, n for negative, m for mixed, q to exit m\n"
     ]
    },
    {
     "name": "stdout",
     "output_type": "stream",
     "text": [
      "\n",
      "\n",
      "De certeza que é melhor/mais feliz https://t.co/c73yKTNcIk\n"
     ]
    },
    {
     "name": "stdin",
     "output_type": "stream",
     "text": [
      "p for positive, n for negative, m for mixed, q to exit p\n"
     ]
    },
    {
     "name": "stdout",
     "output_type": "stream",
     "text": [
      "\n",
      "\n",
      "@oukaybye @inesbrass Olá! Fico muito feliz por termos conseguido ajudar e espero que esteja tudo bem com ela agora !☺️\n"
     ]
    },
    {
     "name": "stdin",
     "output_type": "stream",
     "text": [
      "p for positive, n for negative, m for mixed, q to exit p\n"
     ]
    },
    {
     "name": "stdout",
     "output_type": "stream",
     "text": [
      "\n",
      "\n",
      "Feliz pelo Arouca , por ser a minha terrinha durante 10 dias , desde os meus 5 anos  ... \n",
      "Triste pelo Pedrito... https://t.co/vMLBDi4LhP\n"
     ]
    },
    {
     "name": "stdin",
     "output_type": "stream",
     "text": [
      "p for positive, n for negative, m for mixed, q to exit m\n"
     ]
    },
    {
     "name": "stdout",
     "output_type": "stream",
     "text": [
      "\n",
      "\n",
      "Hoje faz três anos do dia mais feliz da minha vida, uma das minhas maiores metas, a minha carta de condução 🚘❤️\n"
     ]
    },
    {
     "name": "stdin",
     "output_type": "stream",
     "text": [
      "p for positive, n for negative, m for mixed, q to exit p\n"
     ]
    },
    {
     "name": "stdout",
     "output_type": "stream",
     "text": [
      "\n",
      "\n",
      "Da série “já fui muito feliz aqui”. https://t.co/kekFkJmr0I\n"
     ]
    },
    {
     "name": "stdin",
     "output_type": "stream",
     "text": [
      "p for positive, n for negative, m for mixed, q to exit p\n"
     ]
    },
    {
     "name": "stdout",
     "output_type": "stream",
     "text": [
      "\n",
      "\n",
      "calma que agora o homem já está feliz\n"
     ]
    },
    {
     "name": "stdin",
     "output_type": "stream",
     "text": [
      "p for positive, n for negative, m for mixed, q to exit p\n"
     ]
    },
    {
     "name": "stdout",
     "output_type": "stream",
     "text": [
      "\n",
      "\n",
      "Quero ser feliz como eles são um dia https://t.co/AgiHoO8C5Y\n"
     ]
    },
    {
     "name": "stdin",
     "output_type": "stream",
     "text": [
      "p for positive, n for negative, m for mixed, q to exit p\n"
     ]
    },
    {
     "name": "stdout",
     "output_type": "stream",
     "text": [
      "\n",
      "\n",
      "@TelmaCarlos7 vamos roubar na melicia, tudo p te fazer feliz\n"
     ]
    },
    {
     "name": "stdin",
     "output_type": "stream",
     "text": [
      "p for positive, n for negative, m for mixed, q to exit p\n"
     ]
    },
    {
     "name": "stdout",
     "output_type": "stream",
     "text": [
      "\n",
      "\n",
      "@wonderwomanJu Bom dia Joana!!! Uma semana muito feliz para os 4!!! ❤️😘\n"
     ]
    },
    {
     "name": "stdin",
     "output_type": "stream",
     "text": [
      "p for positive, n for negative, m for mixed, q to exit p\n"
     ]
    },
    {
     "name": "stdout",
     "output_type": "stream",
     "text": [
      "\n",
      "\n",
      "@PedroRaposo7 Parabéns! Tem um dia feliz! ☺️\n"
     ]
    },
    {
     "name": "stdin",
     "output_type": "stream",
     "text": [
      "p for positive, n for negative, m for mixed, q to exit p\n"
     ]
    },
    {
     "name": "stdout",
     "output_type": "stream",
     "text": [
      "\n",
      "\n",
      "@Jmrpportugal @enfermeira_a Eu deixei de prestar atenção ao evento e tenho zero qualif. para avaliar a interpretação em causa. Só comentei pq a comparação com o circo parece-me feliz sem ser um insulto. Percebo a pergunta mas entenda q quem n tem o preconceito q suspeita nem lhe interessa esta discussão 😉\n"
     ]
    },
    {
     "name": "stdin",
     "output_type": "stream",
     "text": [
      "p for positive, n for negative, m for mixed, q to exit m\n"
     ]
    },
    {
     "name": "stdout",
     "output_type": "stream",
     "text": [
      "\n",
      "\n",
      "Prometo fazer te feliz o resto da vida e irei cumprir com a minha palavra\n"
     ]
    },
    {
     "name": "stdin",
     "output_type": "stream",
     "text": [
      "p for positive, n for negative, m for mixed, q to exit p\n"
     ]
    },
    {
     "name": "stdout",
     "output_type": "stream",
     "text": [
      "\n",
      "\n",
      "o telemóvel ligar o Bluetooth automaticamente ao carro deixa-me demasiado feliz\n"
     ]
    },
    {
     "name": "stdin",
     "output_type": "stream",
     "text": [
      "p for positive, n for negative, m for mixed, q to exit p\n"
     ]
    },
    {
     "name": "stdout",
     "output_type": "stream",
     "text": [
      "\n",
      "\n",
      "maior flex ontem foi metê-la feliz\n"
     ]
    },
    {
     "name": "stdin",
     "output_type": "stream",
     "text": [
      "p for positive, n for negative, m for mixed, q to exit p\n"
     ]
    },
    {
     "name": "stdout",
     "output_type": "stream",
     "text": [
      "\n",
      "\n",
      "Minha pitica linda feliz aniversario que Jesus abençoe vc e seus sonhos você merece o mundo todinho de felicidade ❤️😍 https://t.co/U1MIxPunNL\n"
     ]
    },
    {
     "name": "stdin",
     "output_type": "stream",
     "text": [
      "p for positive, n for negative, m for mixed, q to exit p\n"
     ]
    },
    {
     "name": "stdout",
     "output_type": "stream",
     "text": [
      "\n",
      "\n",
      "Sonhaste com um feliz pra sempre\n",
      "Quem sabe esse feliz pra sempre tá no seguir em frente\n"
     ]
    },
    {
     "name": "stdin",
     "output_type": "stream",
     "text": [
      "p for positive, n for negative, m for mixed, q to exit p\n"
     ]
    },
    {
     "name": "stdout",
     "output_type": "stream",
     "text": [
      "\n",
      "\n",
      "FELIZ DIA DOS IRMÃOS! https://t.co/Ma4OMz8aUZ\n"
     ]
    },
    {
     "name": "stdin",
     "output_type": "stream",
     "text": [
      "p for positive, n for negative, m for mixed, q to exit p\n"
     ]
    },
    {
     "name": "stdout",
     "output_type": "stream",
     "text": [
      "\n",
      "\n",
      "@dmarchante28 ? mano ahaha tu és mm mentalidade de clube pequeno, na premier só se fica feliz se fores campeão ou ires a champions. Quero saber o que é q tu alcançaste com esse terceiro lugar... o jogo é Chelsea vs City, Liverpool ta fora faz tempo\n"
     ]
    },
    {
     "name": "stdin",
     "output_type": "stream",
     "text": [
      "p for positive, n for negative, m for mixed, q to exit m\n"
     ]
    },
    {
     "name": "stdout",
     "output_type": "stream",
     "text": [
      "\n",
      "\n",
      "Perdi a conta das vezes que disse que estava muito feliz\n"
     ]
    },
    {
     "name": "stdin",
     "output_type": "stream",
     "text": [
      "p for positive, n for negative, m for mixed, q to exit p\n"
     ]
    },
    {
     "name": "stdout",
     "output_type": "stream",
     "text": [
      "\n",
      "\n",
      "@andreiaravjo não te sentes feliz no BnR?\n"
     ]
    },
    {
     "name": "stdin",
     "output_type": "stream",
     "text": [
      "p for positive, n for negative, m for mixed, q to exit p\n"
     ]
    },
    {
     "name": "stdout",
     "output_type": "stream",
     "text": [
      "\n",
      "\n",
      "@himikocontent Muito bom! Fico muito feliz 😄\n"
     ]
    },
    {
     "name": "stdin",
     "output_type": "stream",
     "text": [
      "p for positive, n for negative, m for mixed, q to exit p\n"
     ]
    },
    {
     "name": "stdout",
     "output_type": "stream",
     "text": [
      "\n",
      "\n",
      "@Anitta tão bom te ver feliz amor ❤️\n"
     ]
    },
    {
     "name": "stdin",
     "output_type": "stream",
     "text": [
      "p for positive, n for negative, m for mixed, q to exit p\n"
     ]
    },
    {
     "name": "stdout",
     "output_type": "stream",
     "text": [
      "\n",
      "\n",
      "@Carlosg60112566 Sabes que tu eras capaz de interpretar na perfeição a personagem?  🤔Eu já sabia que não ia ter um final feliz, e diverti-me imenso com o que ele fazia e inventava, acho que fui assistido como se também acreditasse no jogo, aproveitar tudo o que era bom, no fim, não chorei\n"
     ]
    },
    {
     "name": "stdin",
     "output_type": "stream",
     "text": [
      "p for positive, n for negative, m for mixed, q to exit p\n"
     ]
    },
    {
     "name": "stdout",
     "output_type": "stream",
     "text": [
      "\n",
      "\n",
      "Feliz pelo matador Suarez 👏\n",
      "Merece, depois de ser dispensado pelo Barça...\n"
     ]
    },
    {
     "name": "stdin",
     "output_type": "stream",
     "text": [
      "p for positive, n for negative, m for mixed, q to exit m\n"
     ]
    },
    {
     "name": "stdout",
     "output_type": "stream",
     "text": [
      "\n",
      "\n",
      "uma exposiçaozinha na pinacoteca e eu era feliz\n"
     ]
    },
    {
     "name": "stdin",
     "output_type": "stream",
     "text": [
      "p for positive, n for negative, m for mixed, q to exit p\n"
     ]
    },
    {
     "name": "stdout",
     "output_type": "stream",
     "text": [
      "\n",
      "\n",
      "Joao feliz vai ser campeão que lenda\n"
     ]
    },
    {
     "name": "stdin",
     "output_type": "stream",
     "text": [
      "p for positive, n for negative, m for mixed, q to exit p\n"
     ]
    },
    {
     "name": "stdout",
     "output_type": "stream",
     "text": [
      "\n",
      "\n",
      "@maargaridac tão feliz juro\n"
     ]
    },
    {
     "name": "stdin",
     "output_type": "stream",
     "text": [
      "p for positive, n for negative, m for mixed, q to exit p\n"
     ]
    },
    {
     "name": "stdout",
     "output_type": "stream",
     "text": [
      "\n",
      "\n",
      "estou muito feliz. dos piores que já vi https://t.co/lSEjLOD7aO\n"
     ]
    },
    {
     "name": "stdin",
     "output_type": "stream",
     "text": [
      "p for positive, n for negative, m for mixed, q to exit m\n"
     ]
    },
    {
     "name": "stdout",
     "output_type": "stream",
     "text": [
      "\n",
      "\n",
      "é tão triste perceber que nunca vou conseguir ter uma conversa decente com os meus pais nem nunca vou ser feliz a viver com eles...\n"
     ]
    },
    {
     "name": "stdin",
     "output_type": "stream",
     "text": [
      "p for positive, n for negative, m for mixed, q to exit n\n"
     ]
    },
    {
     "name": "stdout",
     "output_type": "stream",
     "text": [
      "\n",
      "\n",
      "Eu podia ser uma pessoa feliz.\n",
      "Mas há pessoas neste mundo que às 3 da manhã me mandam vídeos de pessoas a cair de janelas e não me deixam dormir. \n",
      "Era só isto.\n"
     ]
    },
    {
     "name": "stdin",
     "output_type": "stream",
     "text": [
      "p for positive, n for negative, m for mixed, q to exit n\n"
     ]
    },
    {
     "name": "stdout",
     "output_type": "stream",
     "text": [
      "\n",
      "\n",
      "@diogosouscastro \n",
      "❤️AMORZITO👑QUERIDO DO \n",
      "MEU❤️\n",
      "QUE TENHAS UM JANTAR MUITO FELIZ🍀E ALEGRE🌈\n",
      "AMO-TE🔥MUITO MESMO SEMPRE PARA SEMPRE PARA \n",
      "TODA A VIDA💛\n",
      "~❤️~=(☀️+🌙)\n",
      "🎂PARABÉNS❤️MARIDO👑DA MINHA VIDA💚PELO TEU GRANDE DIA🌻🎁👫 https://t.co/031ZRVfZFS\n"
     ]
    },
    {
     "name": "stdin",
     "output_type": "stream",
     "text": [
      "p for positive, n for negative, m for mixed, q to exit p\n"
     ]
    },
    {
     "name": "stdout",
     "output_type": "stream",
     "text": [
      "\n",
      "\n",
      "Jesus, e Vieira: uma noite feliz.\n",
      "São os meus votos...\n",
      "Vieira: o futuro a Deus pertence\n"
     ]
    },
    {
     "name": "stdin",
     "output_type": "stream",
     "text": [
      "p for positive, n for negative, m for mixed, q to exit p\n"
     ]
    },
    {
     "name": "stdout",
     "output_type": "stream",
     "text": [
      "\n",
      "\n",
      "@inespereiraaaaa @joker77_0 @apoioscpfutfem @Sporting_CP Muitos parabéns Inês !! Dia muito feliz!\n"
     ]
    },
    {
     "name": "stdin",
     "output_type": "stream",
     "text": [
      "p for positive, n for negative, m for mixed, q to exit p\n"
     ]
    },
    {
     "name": "stdout",
     "output_type": "stream",
     "text": [
      "\n",
      "\n",
      "Só quero ser feliz\n"
     ]
    },
    {
     "name": "stdin",
     "output_type": "stream",
     "text": [
      "p for positive, n for negative, m for mixed, q to exit p\n"
     ]
    },
    {
     "name": "stdout",
     "output_type": "stream",
     "text": [
      "\n",
      "\n",
      "@rebelbia_ Feliz aniversário!\n"
     ]
    },
    {
     "name": "stdin",
     "output_type": "stream",
     "text": [
      "p for positive, n for negative, m for mixed, q to exit p\n"
     ]
    },
    {
     "name": "stdout",
     "output_type": "stream",
     "text": [
      "\n",
      "\n",
      "A verdadeira definição de amizade é a pessoa estar feliz e sentir necessidade de partilhar essa felicidade contigo! Ver amigos felizes é um dos melhores sentimentos/sensações que há.\n"
     ]
    },
    {
     "name": "stdin",
     "output_type": "stream",
     "text": [
      "p for positive, n for negative, m for mixed, q to exit p\n"
     ]
    },
    {
     "name": "stdout",
     "output_type": "stream",
     "text": [
      "\n",
      "\n",
      "Bom dia, bom Domingo…. E que nunca se pare de lutar e apreciar o que nos faz feliz! ❤️🌟\n",
      "•\n",
      "#Axé em Porto, Portugal https://t.co/9LrT7tBWVv\n"
     ]
    },
    {
     "name": "stdin",
     "output_type": "stream",
     "text": [
      "p for positive, n for negative, m for mixed, q to exit p\n"
     ]
    },
    {
     "name": "stdout",
     "output_type": "stream",
     "text": [
      "\n",
      "\n",
      "@HellyCrz Bom dia helly 🌹\n",
      "Feliz dia especial 🎊\n"
     ]
    },
    {
     "name": "stdin",
     "output_type": "stream",
     "text": [
      "p for positive, n for negative, m for mixed, q to exit p\n"
     ]
    },
    {
     "name": "stdout",
     "output_type": "stream",
     "text": [
      "\n",
      "\n",
      "Estou bem feliz com o rumo disto tudo❤\n"
     ]
    },
    {
     "name": "stdin",
     "output_type": "stream",
     "text": [
      "p for positive, n for negative, m for mixed, q to exit p\n"
     ]
    },
    {
     "name": "stdout",
     "output_type": "stream",
     "text": [
      "\n",
      "\n",
      "Feliz Dia Mundial Sem Tabaco. Bom dia. https://t.co/upwhd1HCzI\n"
     ]
    },
    {
     "name": "stdin",
     "output_type": "stream",
     "text": [
      "p for positive, n for negative, m for mixed, q to exit p\n"
     ]
    },
    {
     "name": "stdout",
     "output_type": "stream",
     "text": [
      "\n",
      "\n",
      "11:36❤ 31/05/2021❤\n",
      "Dahm estou tão feliz\n"
     ]
    },
    {
     "name": "stdin",
     "output_type": "stream",
     "text": [
      "p for positive, n for negative, m for mixed, q to exit p\n"
     ]
    },
    {
     "name": "stdout",
     "output_type": "stream",
     "text": [
      "\n",
      "\n",
      "O importante é ser feliz 🤣😂\n"
     ]
    },
    {
     "name": "stdin",
     "output_type": "stream",
     "text": [
      "p for positive, n for negative, m for mixed, q to exit p\n"
     ]
    },
    {
     "name": "stdout",
     "output_type": "stream",
     "text": [
      "\n",
      "\n",
      "Estou muito feliz hoje, pois meu tio me disse q eu bj muito bem 😀\n"
     ]
    },
    {
     "name": "stdin",
     "output_type": "stream",
     "text": [
      "p for positive, n for negative, m for mixed, q to exit p\n"
     ]
    },
    {
     "name": "stdout",
     "output_type": "stream",
     "text": [
      "\n",
      "\n",
      "Fiquei tão impressionado e feliz com a noticia que vi no jornal de que pessoas de 30 a 40 anos irão se vacinar em junho que acabei sonhando me vacinando. Hahahahaha\n"
     ]
    },
    {
     "name": "stdin",
     "output_type": "stream",
     "text": [
      "p for positive, n for negative, m for mixed, q to exit p\n"
     ]
    },
    {
     "name": "stdout",
     "output_type": "stream",
     "text": [
      "\n",
      "\n",
      "Tou feliz quase como se fosse Portugal\n"
     ]
    },
    {
     "name": "stdin",
     "output_type": "stream",
     "text": [
      "p for positive, n for negative, m for mixed, q to exit p\n"
     ]
    },
    {
     "name": "stdout",
     "output_type": "stream",
     "text": [
      "\n",
      "\n",
      "super feliz 😋\n"
     ]
    },
    {
     "name": "stdin",
     "output_type": "stream",
     "text": [
      "p for positive, n for negative, m for mixed, q to exit p\n"
     ]
    },
    {
     "name": "stdout",
     "output_type": "stream",
     "text": [
      "\n",
      "\n",
      "Indo dormi feliz e tranquilo\n"
     ]
    },
    {
     "name": "stdin",
     "output_type": "stream",
     "text": [
      "p for positive, n for negative, m for mixed, q to exit p\n"
     ]
    },
    {
     "name": "stdout",
     "output_type": "stream",
     "text": [
      "\n",
      "\n"
     ]
    }
   ],
   "source": [
    "for tweet in random.sample(list(df.loc[df[\"keyword\"]==\"feliz\", \"tweet\"]), 50):\n",
    "    print(tweet)\n",
    "    evaluation = input(\"p for positive, n for negative, m for mixed, q to exit\")\n",
    "    print(\"\\n\")\n",
    "    evals.append(evaluation)\n",
    "    if evaluation == \"q\":\n",
    "        break"
   ]
  },
  {
   "cell_type": "code",
   "execution_count": 32,
   "id": "76e112cf-adca-4291-8cf2-f87beceffb95",
   "metadata": {
    "execution": {
     "iopub.execute_input": "2021-06-17T08:30:50.328616Z",
     "iopub.status.busy": "2021-06-17T08:30:50.328616Z",
     "iopub.status.idle": "2021-06-17T08:30:51.201673Z",
     "shell.execute_reply": "2021-06-17T08:30:51.198725Z",
     "shell.execute_reply.started": "2021-06-17T08:30:50.328616Z"
    },
    "tags": []
   },
   "outputs": [
    {
     "data": {
      "text/html": [
       "<div>\n",
       "<style scoped>\n",
       "    .dataframe tbody tr th:only-of-type {\n",
       "        vertical-align: middle;\n",
       "    }\n",
       "\n",
       "    .dataframe tbody tr th {\n",
       "        vertical-align: top;\n",
       "    }\n",
       "\n",
       "    .dataframe thead th {\n",
       "        text-align: right;\n",
       "    }\n",
       "</style>\n",
       "<table border=\"1\" class=\"dataframe\">\n",
       "  <thead>\n",
       "    <tr style=\"text-align: right;\">\n",
       "      <th></th>\n",
       "      <th>feliz</th>\n",
       "    </tr>\n",
       "  </thead>\n",
       "  <tbody>\n",
       "    <tr>\n",
       "      <th>p</th>\n",
       "      <td>0.82</td>\n",
       "    </tr>\n",
       "    <tr>\n",
       "      <th>m</th>\n",
       "      <td>0.14</td>\n",
       "    </tr>\n",
       "    <tr>\n",
       "      <th>n</th>\n",
       "      <td>0.04</td>\n",
       "    </tr>\n",
       "  </tbody>\n",
       "</table>\n",
       "</div>"
      ],
      "text/plain": [
       "   feliz\n",
       "p   0.82\n",
       "m   0.14\n",
       "n   0.04"
      ]
     },
     "execution_count": 32,
     "metadata": {},
     "output_type": "execute_result"
    }
   ],
   "source": [
    "evals_df[\"feliz\"] = pd.Series(evals).value_counts()/50\n",
    "evals_df"
   ]
  },
  {
   "cell_type": "code",
   "execution_count": 19,
   "id": "c0b4bd5c-bb91-4a5a-822f-193811576572",
   "metadata": {
    "execution": {
     "iopub.execute_input": "2021-06-16T10:06:39.624336Z",
     "iopub.status.busy": "2021-06-16T10:06:39.624336Z",
     "iopub.status.idle": "2021-06-16T10:06:39.630320Z",
     "shell.execute_reply": "2021-06-16T10:06:39.629351Z",
     "shell.execute_reply.started": "2021-06-16T10:06:39.624336Z"
    },
    "tags": []
   },
   "outputs": [
    {
     "data": {
      "text/plain": [
       "0.82"
      ]
     },
     "execution_count": 19,
     "metadata": {},
     "output_type": "execute_result"
    }
   ],
   "source": [
    "41/50"
   ]
  },
  {
   "cell_type": "code",
   "execution_count": 23,
   "id": "232438f6-1311-46ae-b1a9-da160331fed4",
   "metadata": {
    "execution": {
     "iopub.execute_input": "2021-06-16T10:08:05.829152Z",
     "iopub.status.busy": "2021-06-16T10:08:05.829152Z",
     "iopub.status.idle": "2021-06-16T10:08:05.841094Z",
     "shell.execute_reply": "2021-06-16T10:08:05.840093Z",
     "shell.execute_reply.started": "2021-06-16T10:08:05.829152Z"
    },
    "tags": []
   },
   "outputs": [],
   "source": [
    "evals_feliz = evals.copy()"
   ]
  },
  {
   "cell_type": "code",
   "execution_count": 26,
   "id": "44a5e412-9bdb-4c4a-9424-02f524ed9c45",
   "metadata": {
    "collapsed": true,
    "execution": {
     "iopub.execute_input": "2021-06-16T10:09:40.990336Z",
     "iopub.status.busy": "2021-06-16T10:09:40.989341Z",
     "iopub.status.idle": "2021-06-16T10:17:16.075079Z",
     "shell.execute_reply": "2021-06-16T10:17:16.075079Z",
     "shell.execute_reply.started": "2021-06-16T10:09:40.990336Z"
    },
    "jupyter": {
     "outputs_hidden": true
    },
    "tags": []
   },
   "outputs": [
    {
     "name": "stdout",
     "output_type": "stream",
     "text": [
      "Platinas várias 'tão-me a encher a conta\n",
      "Palavras sábias, tu confia, amor\n"
     ]
    },
    {
     "name": "stdin",
     "output_type": "stream",
     "text": [
      "p for positive, n for negative, m for mixed, q to exit p\n"
     ]
    },
    {
     "name": "stdout",
     "output_type": "stream",
     "text": [
      "\n",
      "\n",
      "@BeatrizB_2001 Vai ser meu amor!!!\n"
     ]
    },
    {
     "name": "stdin",
     "output_type": "stream",
     "text": [
      "p for positive, n for negative, m for mixed, q to exit p\n"
     ]
    },
    {
     "name": "stdout",
     "output_type": "stream",
     "text": [
      "\n",
      "\n",
      "@diogosouscastro ESTOU TRISTE POR UM LADO POR NÃO ESTAR PRESENCIALMENTE CONTIGO MAS JÁ TE TER NEM QUE SEJA NO TWEET É MELHOR QUE NADA, COMO JÁ ESTIVEMOS MAS O NOSSO AMOR É BEM SUPERIOR A ISTO SOBREVIVE A TUDO, O NOSSO AMOR É AMOR DE ALMAS GÉMEAS É ETERNO E É PARA SEMPRE\n",
      "~❤️~ https://t.co/gAtbPpGfAf\n"
     ]
    },
    {
     "name": "stdin",
     "output_type": "stream",
     "text": [
      "p for positive, n for negative, m for mixed, q to exit m\n"
     ]
    },
    {
     "name": "stdout",
     "output_type": "stream",
     "text": [
      "\n",
      "\n",
      "douglas costa pelo amor de deus usa a 7 meuzinho......\n"
     ]
    },
    {
     "name": "stdin",
     "output_type": "stream",
     "text": [
      "p for positive, n for negative, m for mixed, q to exit n\n"
     ]
    },
    {
     "name": "stdout",
     "output_type": "stream",
     "text": [
      "\n",
      "\n",
      "@Ricardo07016031 Lindo Emocionante Admirável.  Em Honra Ao CAMPEÃO SPORTING numa das Melhores Praias do Algarve. O Símbolo do CAMPEÃO 💚 o Nosso Grande AMOR o@SPORTING 💚🦁💚\n"
     ]
    },
    {
     "name": "stdin",
     "output_type": "stream",
     "text": [
      "p for positive, n for negative, m for mixed, q to exit p\n"
     ]
    },
    {
     "name": "stdout",
     "output_type": "stream",
     "text": [
      "\n",
      "\n",
      "Ronaldo e os treinadores da Juventus: uma relação de amor! 😬 https://t.co/yzK2oZQfum\n"
     ]
    },
    {
     "name": "stdin",
     "output_type": "stream",
     "text": [
      "p for positive, n for negative, m for mixed, q to exit p\n"
     ]
    },
    {
     "name": "stdout",
     "output_type": "stream",
     "text": [
      "\n",
      "\n",
      "@ttdanalaura_ Calma amor tem eu aq que até brilha mais\n"
     ]
    },
    {
     "name": "stdin",
     "output_type": "stream",
     "text": [
      "p for positive, n for negative, m for mixed, q to exit p\n"
     ]
    },
    {
     "name": "stdout",
     "output_type": "stream",
     "text": [
      "\n",
      "\n",
      "@ttmeodeiapq Bom dia amor\n"
     ]
    },
    {
     "name": "stdin",
     "output_type": "stream",
     "text": [
      "p for positive, n for negative, m for mixed, q to exit p\n"
     ]
    },
    {
     "name": "stdout",
     "output_type": "stream",
     "text": [
      "\n",
      "\n",
      "@_carolinaprata seu amor faz td por vc mesmo foda se 😰\n"
     ]
    },
    {
     "name": "stdin",
     "output_type": "stream",
     "text": [
      "p for positive, n for negative, m for mixed, q to exit p\n"
     ]
    },
    {
     "name": "stdout",
     "output_type": "stream",
     "text": [
      "\n",
      "\n",
      "@llindinhaz @carolinie amiga, a mãe do Gil. Ela é um amor, segue ela tbm!!kkkkkkk\n"
     ]
    },
    {
     "name": "stdin",
     "output_type": "stream",
     "text": [
      "p for positive, n for negative, m for mixed, q to exit p\n"
     ]
    },
    {
     "name": "stdout",
     "output_type": "stream",
     "text": [
      "\n",
      "\n",
      "@pietraprincipe Muito amor! As carinhas deles na última foto com teu pai, eu fico aqui fazendo « vozinha », guento não! Cachorro é benção demais! ❤️\n"
     ]
    },
    {
     "name": "stdin",
     "output_type": "stream",
     "text": [
      "p for positive, n for negative, m for mixed, q to exit p\n"
     ]
    },
    {
     "name": "stdout",
     "output_type": "stream",
     "text": [
      "\n",
      "\n",
      "@FreyjaSoul @RitaFra26846661 @SavateBruno @misswolf93 Deves ter nas orelhas.  Eu não vou ler sobre musica de porcaria. Não é xenofobia querida é opiniao sobre a música e nao sobre as pessoas do grupo. Boys bands não sao a minha cena. Se gostas vai ouvjr agora n impinjas nos outros. Derrubem a minba conta? 🤣🤣🤣🤭 amor vai estudar\n"
     ]
    },
    {
     "name": "stdin",
     "output_type": "stream",
     "text": [
      "p for positive, n for negative, m for mixed, q to exit n\n"
     ]
    },
    {
     "name": "stdout",
     "output_type": "stream",
     "text": [
      "\n",
      "\n",
      "De amor...pqp o anão gostoso\n"
     ]
    },
    {
     "name": "stdin",
     "output_type": "stream",
     "text": [
      "p for positive, n for negative, m for mixed, q to exit p\n"
     ]
    },
    {
     "name": "stdout",
     "output_type": "stream",
     "text": [
      "\n",
      "\n",
      "Olho p trás e só acho um dos meus ex's bonitos, amor cega uma pessoa fds\n"
     ]
    },
    {
     "name": "stdin",
     "output_type": "stream",
     "text": [
      "p for positive, n for negative, m for mixed, q to exit m\n"
     ]
    },
    {
     "name": "stdout",
     "output_type": "stream",
     "text": [
      "\n",
      "\n",
      "@gustastockler Cada um recebe o que merece... Se você recebe amor, é porque você merece receber esse amor... E quando vem de tanta gente, não é por engano não! A felicidade nem sempre está onde a gente pensa... Mas ela está lá! Dica: procura dentro de você! 😉😘\n"
     ]
    },
    {
     "name": "stdin",
     "output_type": "stream",
     "text": [
      "p for positive, n for negative, m for mixed, q to exit p\n"
     ]
    },
    {
     "name": "stdout",
     "output_type": "stream",
     "text": [
      "\n",
      "\n",
      "@buck_nacked @porto_azul Esse foi dar amor\n"
     ]
    },
    {
     "name": "stdin",
     "output_type": "stream",
     "text": [
      "p for positive, n for negative, m for mixed, q to exit p\n"
     ]
    },
    {
     "name": "stdout",
     "output_type": "stream",
     "text": [
      "\n",
      "\n",
      "@capetadcalcinha eu vou até marambaia ver meu amor sim\n"
     ]
    },
    {
     "name": "stdin",
     "output_type": "stream",
     "text": [
      "p for positive, n for negative, m for mixed, q to exit p\n"
     ]
    },
    {
     "name": "stdout",
     "output_type": "stream",
     "text": [
      "\n",
      "\n",
      "@CoelhoPipocaM o privilégio é todo meu, amor\n"
     ]
    },
    {
     "name": "stdin",
     "output_type": "stream",
     "text": [
      "p for positive, n for negative, m for mixed, q to exit p\n"
     ]
    },
    {
     "name": "stdout",
     "output_type": "stream",
     "text": [
      "\n",
      "\n",
      "@carolsousaa13 E eu a ti meu amor\n"
     ]
    },
    {
     "name": "stdin",
     "output_type": "stream",
     "text": [
      "p for positive, n for negative, m for mixed, q to exit p\n"
     ]
    },
    {
     "name": "stdout",
     "output_type": "stream",
     "text": [
      "\n",
      "\n",
      "@simaocc0 pelo amor da santa, não simão\n"
     ]
    },
    {
     "name": "stdin",
     "output_type": "stream",
     "text": [
      "p for positive, n for negative, m for mixed, q to exit p\n"
     ]
    },
    {
     "name": "stdout",
     "output_type": "stream",
     "text": [
      "\n",
      "\n",
      "Aaaa que amor &lt;33 https://t.co/OHpzUM1gFb\n"
     ]
    },
    {
     "name": "stdin",
     "output_type": "stream",
     "text": [
      "p for positive, n for negative, m for mixed, q to exit p\n"
     ]
    },
    {
     "name": "stdout",
     "output_type": "stream",
     "text": [
      "\n",
      "\n",
      "PELO AMOR DE DEUS GRÊMIO EU VOU MORRER NOS PRÓXIMOS MINUTOS SE VC NÃO ANUNCIAR O HOME\n"
     ]
    },
    {
     "name": "stdin",
     "output_type": "stream",
     "text": [
      "p for positive, n for negative, m for mixed, q to exit n\n"
     ]
    },
    {
     "name": "stdout",
     "output_type": "stream",
     "text": [
      "\n",
      "\n",
      "Essa mulher nunca deve ter experiênciado algo chamado ✨ amor próprio ✨ https://t.co/XyjAaw1oZB\n"
     ]
    },
    {
     "name": "stdin",
     "output_type": "stream",
     "text": [
      "p for positive, n for negative, m for mixed, q to exit n\n"
     ]
    },
    {
     "name": "stdout",
     "output_type": "stream",
     "text": [
      "\n",
      "\n",
      "- Tao linda meu amor!\n",
      "- Que que ela fez?!\n",
      "- EXISTE\n",
      "@CatarynaViegas 🥰🥰\n"
     ]
    },
    {
     "name": "stdin",
     "output_type": "stream",
     "text": [
      "p for positive, n for negative, m for mixed, q to exit p\n"
     ]
    },
    {
     "name": "stdout",
     "output_type": "stream",
     "text": [
      "\n",
      "\n",
      "@Afroswedish @s3rgiomoreira @pcamoes999 @dragaodeletra \"não subestimes que eu sou o próximo Rui Pinto\" epa, por amor de deus são 14 da tarde ja tás com conversa de bebado\n"
     ]
    },
    {
     "name": "stdin",
     "output_type": "stream",
     "text": [
      "p for positive, n for negative, m for mixed, q to exit n\n"
     ]
    },
    {
     "name": "stdout",
     "output_type": "stream",
     "text": [
      "\n",
      "\n",
      "Um amor chamado reggaeton\n"
     ]
    },
    {
     "name": "stdin",
     "output_type": "stream",
     "text": [
      "p for positive, n for negative, m for mixed, q to exit p\n"
     ]
    },
    {
     "name": "stdout",
     "output_type": "stream",
     "text": [
      "\n",
      "\n",
      "@matchadoox Mesmo amor\n"
     ]
    },
    {
     "name": "stdin",
     "output_type": "stream",
     "text": [
      "p for positive, n for negative, m for mixed, q to exit p\n"
     ]
    },
    {
     "name": "stdout",
     "output_type": "stream",
     "text": [
      "\n",
      "\n",
      "@_allexandraa_ Ta aí quem amor?\n"
     ]
    },
    {
     "name": "stdin",
     "output_type": "stream",
     "text": [
      "p for positive, n for negative, m for mixed, q to exit p\n"
     ]
    },
    {
     "name": "stdout",
     "output_type": "stream",
     "text": [
      "\n",
      "\n",
      "uma dose de amor e dois dedos de whisky, degustando a praia do leblon\n"
     ]
    },
    {
     "name": "stdin",
     "output_type": "stream",
     "text": [
      "p for positive, n for negative, m for mixed, q to exit p\n"
     ]
    },
    {
     "name": "stdout",
     "output_type": "stream",
     "text": [
      "\n",
      "\n",
      "Eu encontro amor em flores\n"
     ]
    },
    {
     "name": "stdin",
     "output_type": "stream",
     "text": [
      "p for positive, n for negative, m for mixed, q to exit p\n"
     ]
    },
    {
     "name": "stdout",
     "output_type": "stream",
     "text": [
      "\n",
      "\n",
      "• laços de amor / ribbons of love 🎀🎨💕 • em Ponte Laços De Amizade https://t.co/3kxXac0Pd7\n"
     ]
    },
    {
     "name": "stdin",
     "output_type": "stream",
     "text": [
      "p for positive, n for negative, m for mixed, q to exit p\n"
     ]
    },
    {
     "name": "stdout",
     "output_type": "stream",
     "text": [
      "\n",
      "\n",
      "Não é sobre quem te chama amor , é sobre quem te trata com amor 🤍\n"
     ]
    },
    {
     "name": "stdin",
     "output_type": "stream",
     "text": [
      "p for positive, n for negative, m for mixed, q to exit p\n"
     ]
    },
    {
     "name": "stdout",
     "output_type": "stream",
     "text": [
      "\n",
      "\n",
      "@Guga02031 bom dia amor da minha vida\n"
     ]
    },
    {
     "name": "stdin",
     "output_type": "stream",
     "text": [
      "p for positive, n for negative, m for mixed, q to exit p\n"
     ]
    },
    {
     "name": "stdout",
     "output_type": "stream",
     "text": [
      "\n",
      "\n",
      "@1977GSG Bon diaaaa amor\n"
     ]
    },
    {
     "name": "stdin",
     "output_type": "stream",
     "text": [
      "p for positive, n for negative, m for mixed, q to exit p\n"
     ]
    },
    {
     "name": "stdout",
     "output_type": "stream",
     "text": [
      "\n",
      "\n",
      "@bxxh666 @ArielSo95297047 Amor de menina.♥️👋👋\n"
     ]
    },
    {
     "name": "stdin",
     "output_type": "stream",
     "text": [
      "p for positive, n for negative, m for mixed, q to exit p\n"
     ]
    },
    {
     "name": "stdout",
     "output_type": "stream",
     "text": [
      "\n",
      "\n",
      "@Ganilha_23 Sou um amor ahahh\n"
     ]
    },
    {
     "name": "stdin",
     "output_type": "stream",
     "text": [
      "p for positive, n for negative, m for mixed, q to exit p\n"
     ]
    },
    {
     "name": "stdout",
     "output_type": "stream",
     "text": [
      "\n",
      "\n",
      "Vida de solteiro é boa mas ter alguém a quem possamos dar amor e carinho também é bom\n"
     ]
    },
    {
     "name": "stdin",
     "output_type": "stream",
     "text": [
      "p for positive, n for negative, m for mixed, q to exit p\n"
     ]
    },
    {
     "name": "stdout",
     "output_type": "stream",
     "text": [
      "\n",
      "\n",
      "@soraiaaldeias Não tens que agradecer amor ❤️❤️🙏🏻\n"
     ]
    },
    {
     "name": "stdin",
     "output_type": "stream",
     "text": [
      "p for positive, n for negative, m for mixed, q to exit p\n"
     ]
    },
    {
     "name": "stdout",
     "output_type": "stream",
     "text": [
      "\n",
      "\n",
      "@NGC4216 Não meu amor és tu que sabes como estou .\n"
     ]
    },
    {
     "name": "stdin",
     "output_type": "stream",
     "text": [
      "p for positive, n for negative, m for mixed, q to exit p\n"
     ]
    },
    {
     "name": "stdout",
     "output_type": "stream",
     "text": [
      "\n",
      "\n",
      "Deus sabe que eu não quero ser um anjo\n",
      "🖤❤️🤍🇵🇹🦅\n",
      "#tagsforlikes #tagsforfollow\n",
      "🔽🔽🔽🔽🔽🔽🔽🔽\n",
      "#picoftheday #photooftheday #pictureoftheday #lamego #portugal #love #goodvibes #goodquotes #goodvibesquotes #goodtimes #goodvibesonly #amor #instagood #instastyle #instadaily https://t.co/zUXELOtAcV\n"
     ]
    },
    {
     "name": "stdin",
     "output_type": "stream",
     "text": [
      "p for positive, n for negative, m for mixed, q to exit p\n"
     ]
    },
    {
     "name": "stdout",
     "output_type": "stream",
     "text": [
      "\n",
      "\n",
      "@himyourfriend orgulhosa de ti amor, ilysm 💞\n"
     ]
    },
    {
     "name": "stdin",
     "output_type": "stream",
     "text": [
      "p for positive, n for negative, m for mixed, q to exit p\n"
     ]
    },
    {
     "name": "stdout",
     "output_type": "stream",
     "text": [
      "\n",
      "\n",
      "N entendo o meu amor por motas Jr\n"
     ]
    },
    {
     "name": "stdin",
     "output_type": "stream",
     "text": [
      "p for positive, n for negative, m for mixed, q to exit n\n"
     ]
    },
    {
     "name": "stdout",
     "output_type": "stream",
     "text": [
      "\n",
      "\n",
      "@AntunesCastro1 Isto é a mais pura verdade. Os bullies não recebem amor e como tal não dão amor. É isto, agora porquê eu não sei. Será uma cadeia de merda que se formou... seja como for tenho pena\n"
     ]
    },
    {
     "name": "stdin",
     "output_type": "stream",
     "text": [
      "p for positive, n for negative, m for mixed, q to exit n\n"
     ]
    },
    {
     "name": "stdout",
     "output_type": "stream",
     "text": [
      "\n",
      "\n",
      "Por amor de Deus, que jornalismo de merda é este? https://t.co/2ypY5D6uPi\n"
     ]
    },
    {
     "name": "stdin",
     "output_type": "stream",
     "text": [
      "p for positive, n for negative, m for mixed, q to exit n\n"
     ]
    },
    {
     "name": "stdout",
     "output_type": "stream",
     "text": [
      "\n",
      "\n",
      "O peguinhas do amor quase fodeu td\n"
     ]
    },
    {
     "name": "stdin",
     "output_type": "stream",
     "text": [
      "p for positive, n for negative, m for mixed, q to exit n\n"
     ]
    },
    {
     "name": "stdout",
     "output_type": "stream",
     "text": [
      "\n",
      "\n",
      "me perder é um erro, seja no amor ou na amizade\n"
     ]
    },
    {
     "name": "stdin",
     "output_type": "stream",
     "text": [
      "p for positive, n for negative, m for mixed, q to exit m\n"
     ]
    },
    {
     "name": "stdout",
     "output_type": "stream",
     "text": [
      "\n",
      "\n",
      "@diogovsh Nunca me senti tão insultado. O amor é recíproco\n"
     ]
    },
    {
     "name": "stdin",
     "output_type": "stream",
     "text": [
      "p for positive, n for negative, m for mixed, q to exit m\n"
     ]
    },
    {
     "name": "stdout",
     "output_type": "stream",
     "text": [
      "\n",
      "\n",
      "descansa em paz, meu amor 🐶💔\n"
     ]
    },
    {
     "name": "stdin",
     "output_type": "stream",
     "text": [
      "p for positive, n for negative, m for mixed, q to exit p\n"
     ]
    },
    {
     "name": "stdout",
     "output_type": "stream",
     "text": [
      "\n",
      "\n",
      "@theumilk99 Faço scroll no Twitter e vejo que tás thirsty mas acho que precisas de amor\n"
     ]
    },
    {
     "name": "stdin",
     "output_type": "stream",
     "text": [
      "p for positive, n for negative, m for mixed, q to exit p\n"
     ]
    },
    {
     "name": "stdout",
     "output_type": "stream",
     "text": [
      "\n",
      "\n",
      "o nível da nossa geração é esse, fazer terapia pra aceitar exatamente o que o amor é, em sua essência, depois de tantos amores falsos passados!\n"
     ]
    },
    {
     "name": "stdin",
     "output_type": "stream",
     "text": [
      "p for positive, n for negative, m for mixed, q to exit p\n"
     ]
    },
    {
     "name": "stdout",
     "output_type": "stream",
     "text": [
      "\n",
      "\n"
     ]
    }
   ],
   "source": [
    "evals_amor = []\n",
    "for tweet in random.sample(list(df.loc[df[\"keyword\"]==\"amor\", \"tweet\"]), 50):\n",
    "    print(tweet)\n",
    "    evaluation = input(\"p for positive, n for negative, m for mixed, q to exit\")\n",
    "    print(\"\\n\")\n",
    "    evals_amor.append(evaluation)\n",
    "    if evaluation == \"q\":\n",
    "        break"
   ]
  },
  {
   "cell_type": "markdown",
   "id": "34aa6a03-37b1-4f6c-a3a3-7c11428ad856",
   "metadata": {},
   "source": [
    "maybe remove amor de deus"
   ]
  },
  {
   "cell_type": "code",
   "execution_count": 41,
   "id": "6aebbb43-4e31-4ed0-88f9-2ef721f13388",
   "metadata": {
    "execution": {
     "iopub.execute_input": "2021-06-17T09:29:07.399648Z",
     "iopub.status.busy": "2021-06-17T09:29:07.399648Z",
     "iopub.status.idle": "2021-06-17T09:29:07.411612Z",
     "shell.execute_reply": "2021-06-17T09:29:07.410616Z",
     "shell.execute_reply.started": "2021-06-17T09:29:07.399648Z"
    },
    "tags": []
   },
   "outputs": [],
   "source": [
    "evals_df[\"amor\"] = pd.Series(evals_amor).value_counts()/50"
   ]
  },
  {
   "cell_type": "code",
   "execution_count": 34,
   "id": "138649ff-6160-4311-92a2-49229b939a2e",
   "metadata": {
    "execution": {
     "iopub.execute_input": "2021-06-17T09:21:49.791954Z",
     "iopub.status.busy": "2021-06-17T09:21:49.791954Z",
     "iopub.status.idle": "2021-06-17T09:21:49.843198Z",
     "shell.execute_reply": "2021-06-17T09:21:49.842238Z",
     "shell.execute_reply.started": "2021-06-17T09:21:49.791954Z"
    },
    "tags": []
   },
   "outputs": [
    {
     "data": {
      "text/html": [
       "<div>\n",
       "<style scoped>\n",
       "    .dataframe tbody tr th:only-of-type {\n",
       "        vertical-align: middle;\n",
       "    }\n",
       "\n",
       "    .dataframe tbody tr th {\n",
       "        vertical-align: top;\n",
       "    }\n",
       "\n",
       "    .dataframe thead th {\n",
       "        text-align: right;\n",
       "    }\n",
       "</style>\n",
       "<table border=\"1\" class=\"dataframe\">\n",
       "  <thead>\n",
       "    <tr style=\"text-align: right;\">\n",
       "      <th></th>\n",
       "      <th>feliz</th>\n",
       "      <th>amor</th>\n",
       "    </tr>\n",
       "  </thead>\n",
       "  <tbody>\n",
       "    <tr>\n",
       "      <th>p</th>\n",
       "      <td>0.82</td>\n",
       "      <td>0.74</td>\n",
       "    </tr>\n",
       "    <tr>\n",
       "      <th>m</th>\n",
       "      <td>0.14</td>\n",
       "      <td>0.08</td>\n",
       "    </tr>\n",
       "    <tr>\n",
       "      <th>n</th>\n",
       "      <td>0.04</td>\n",
       "      <td>0.18</td>\n",
       "    </tr>\n",
       "  </tbody>\n",
       "</table>\n",
       "</div>"
      ],
      "text/plain": [
       "   feliz  amor\n",
       "p   0.82  0.74\n",
       "m   0.14  0.08\n",
       "n   0.04  0.18"
      ]
     },
     "execution_count": 34,
     "metadata": {},
     "output_type": "execute_result"
    }
   ],
   "source": [
    "evals_df"
   ]
  },
  {
   "cell_type": "code",
   "execution_count": 35,
   "id": "bb880639-eef2-411e-9a1c-ce1a63e3ab14",
   "metadata": {
    "collapsed": true,
    "execution": {
     "iopub.execute_input": "2021-06-17T09:23:04.753901Z",
     "iopub.status.busy": "2021-06-17T09:23:04.753901Z",
     "iopub.status.idle": "2021-06-17T09:27:11.468613Z",
     "shell.execute_reply": "2021-06-17T09:27:11.467631Z",
     "shell.execute_reply.started": "2021-06-17T09:23:04.753901Z"
    },
    "jupyter": {
     "outputs_hidden": true
    },
    "tags": []
   },
   "outputs": [
    {
     "name": "stdout",
     "output_type": "stream",
     "text": [
      "És mm gira, tens ganda estilo😍 — 😭😭😭 obrigada  https://t.co/9CsHa5QyM5\n"
     ]
    },
    {
     "name": "stdin",
     "output_type": "stream",
     "text": [
      "p for positive, n for negative, m for mixed, q to exit p\n"
     ]
    },
    {
     "name": "stdout",
     "output_type": "stream",
     "text": [
      "\n",
      "\n",
      "@madalenammarujo obrigada mana💞\n"
     ]
    },
    {
     "name": "stdin",
     "output_type": "stream",
     "text": [
      "p for positive, n for negative, m for mixed, q to exit p\n"
     ]
    },
    {
     "name": "stdout",
     "output_type": "stream",
     "text": [
      "\n",
      "\n",
      "@maria11terra Obrigada, querida!\n"
     ]
    },
    {
     "name": "stdin",
     "output_type": "stream",
     "text": [
      "p for positive, n for negative, m for mixed, q to exit p\n"
     ]
    },
    {
     "name": "stdout",
     "output_type": "stream",
     "text": [
      "\n",
      "\n",
      "@RMenezes24 Obrigada :)\n"
     ]
    },
    {
     "name": "stdin",
     "output_type": "stream",
     "text": [
      "p for positive, n for negative, m for mixed, q to exit p\n"
     ]
    },
    {
     "name": "stdout",
     "output_type": "stream",
     "text": [
      "\n",
      "\n",
      "@jou_c_ Obrigada. Corra tudo bem\n"
     ]
    },
    {
     "name": "stdin",
     "output_type": "stream",
     "text": [
      "p for positive, n for negative, m for mixed, q to exit p\n"
     ]
    },
    {
     "name": "stdout",
     "output_type": "stream",
     "text": [
      "\n",
      "\n",
      "@Andrmanel2 @DaizerPT @Pedro70Pereira Sou obrigado a apoiar a selecao jorge mendes? Vá hasta\n"
     ]
    },
    {
     "name": "stdin",
     "output_type": "stream",
     "text": [
      "p for positive, n for negative, m for mixed, q to exit n\n"
     ]
    },
    {
     "name": "stdout",
     "output_type": "stream",
     "text": [
      "\n",
      "\n",
      "eu a criticar o Soldfksdfskdfkaer por não arriscar e ele tira toda a gente que não sabe bater penalties e mete um banco de gente com classe. Obrigado Sölsdojasdaskaer\n"
     ]
    },
    {
     "name": "stdin",
     "output_type": "stream",
     "text": [
      "p for positive, n for negative, m for mixed, q to exit n\n"
     ]
    },
    {
     "name": "stdout",
     "output_type": "stream",
     "text": [
      "\n",
      "\n",
      "Obrigada Um #Eurovision ❤️🇵🇹\n"
     ]
    },
    {
     "name": "stdin",
     "output_type": "stream",
     "text": [
      "p for positive, n for negative, m for mixed, q to exit p\n"
     ]
    },
    {
     "name": "stdout",
     "output_type": "stream",
     "text": [
      "\n",
      "\n",
      "@maticorreiantao Obrigada Deus\n"
     ]
    },
    {
     "name": "stdin",
     "output_type": "stream",
     "text": [
      "p for positive, n for negative, m for mixed, q to exit p\n"
     ]
    },
    {
     "name": "stdout",
     "output_type": "stream",
     "text": [
      "\n",
      "\n",
      "Amanhã vou ter a oportunidade de conhecer e ouvir o Philip Yancey. Faz anos que não pego nada dele pra ler. Mas o livro Alma Sobrevivente foi fundamental na minha formação. \n",
      "\n",
      "Queria poder dar um abraço no velhinho, mas vai ficar só no obrigado, mesmo.\n"
     ]
    },
    {
     "name": "stdin",
     "output_type": "stream",
     "text": [
      "p for positive, n for negative, m for mixed, q to exit p\n"
     ]
    },
    {
     "name": "stdout",
     "output_type": "stream",
     "text": [
      "\n",
      "\n",
      "@vaitefodermor obrigada lindaa &lt;3\n"
     ]
    },
    {
     "name": "stdin",
     "output_type": "stream",
     "text": [
      "p for positive, n for negative, m for mixed, q to exit p\n"
     ]
    },
    {
     "name": "stdout",
     "output_type": "stream",
     "text": [
      "\n",
      "\n",
      "@diogosecundino obrigado mpt v1ce city\n"
     ]
    },
    {
     "name": "stdin",
     "output_type": "stream",
     "text": [
      "p for positive, n for negative, m for mixed, q to exit p\n"
     ]
    },
    {
     "name": "stdout",
     "output_type": "stream",
     "text": [
      "\n",
      "\n",
      "@The__Clau Obrigado por dedicar seu tempo a fazer a felicidade e não só de muita gente 😍\n"
     ]
    },
    {
     "name": "stdin",
     "output_type": "stream",
     "text": [
      "p for positive, n for negative, m for mixed, q to exit p\n"
     ]
    },
    {
     "name": "stdout",
     "output_type": "stream",
     "text": [
      "\n",
      "\n",
      "@iNukeistheboss Ahahah obrigada!\n"
     ]
    },
    {
     "name": "stdin",
     "output_type": "stream",
     "text": [
      "p for positive, n for negative, m for mixed, q to exit p\n"
     ]
    },
    {
     "name": "stdout",
     "output_type": "stream",
     "text": [
      "\n",
      "\n",
      "@toummacagar Obrigada :)\n"
     ]
    },
    {
     "name": "stdin",
     "output_type": "stream",
     "text": [
      "p for positive, n for negative, m for mixed, q to exit p\n"
     ]
    },
    {
     "name": "stdout",
     "output_type": "stream",
     "text": [
      "\n",
      "\n",
      "@xcoldtear Obrigada\n"
     ]
    },
    {
     "name": "stdin",
     "output_type": "stream",
     "text": [
      "p for positive, n for negative, m for mixed, q to exit p\n"
     ]
    },
    {
     "name": "stdout",
     "output_type": "stream",
     "text": [
      "\n",
      "\n",
      "@readneno Obrigada camarada ❤️❤️❤️\n"
     ]
    },
    {
     "name": "stdin",
     "output_type": "stream",
     "text": [
      "p for positive, n for negative, m for mixed, q to exit p\n"
     ]
    },
    {
     "name": "stdout",
     "output_type": "stream",
     "text": [
      "\n",
      "\n",
      "Obrigada, já n via a hora desta época acabar\n"
     ]
    },
    {
     "name": "stdin",
     "output_type": "stream",
     "text": [
      "p for positive, n for negative, m for mixed, q to exit m\n"
     ]
    },
    {
     "name": "stdout",
     "output_type": "stream",
     "text": [
      "\n",
      "\n",
      "@beatrizcostap28 Obrigado e igualmente &lt;3\n"
     ]
    },
    {
     "name": "stdin",
     "output_type": "stream",
     "text": [
      "p for positive, n for negative, m for mixed, q to exit p\n"
     ]
    },
    {
     "name": "stdout",
     "output_type": "stream",
     "text": [
      "\n",
      "\n",
      "Obrigado pela informação. \n",
      "Já estava a achar estranho. https://t.co/HY8m9lAos1\n"
     ]
    },
    {
     "name": "stdin",
     "output_type": "stream",
     "text": [
      "p for positive, n for negative, m for mixed, q to exit m\n"
     ]
    },
    {
     "name": "stdout",
     "output_type": "stream",
     "text": [
      "\n",
      "\n",
      "Ao menos já vou deixar de ouvir o Malato, obrigada Senhor #Eurovision\n"
     ]
    },
    {
     "name": "stdin",
     "output_type": "stream",
     "text": [
      "p for positive, n for negative, m for mixed, q to exit p\n"
     ]
    },
    {
     "name": "stdout",
     "output_type": "stream",
     "text": [
      "\n",
      "\n",
      "@iminesr obrigada amiga ❤️\n"
     ]
    },
    {
     "name": "stdin",
     "output_type": "stream",
     "text": [
      "p for positive, n for negative, m for mixed, q to exit p\n"
     ]
    },
    {
     "name": "stdout",
     "output_type": "stream",
     "text": [
      "\n",
      "\n",
      "Foi absolutamente perfeito!! Parabéns e obrigado @IsraeleRodolffo!!!\n",
      "\n",
      "#LiveBatomDeCereja\n"
     ]
    },
    {
     "name": "stdin",
     "output_type": "stream",
     "text": [
      "p for positive, n for negative, m for mixed, q to exit p\n"
     ]
    },
    {
     "name": "stdout",
     "output_type": "stream",
     "text": [
      "\n",
      "\n",
      "@beagrcosta ITALIAAAAAAAA, obrigada pelas boas influências ❤\n"
     ]
    },
    {
     "name": "stdin",
     "output_type": "stream",
     "text": [
      "p for positive, n for negative, m for mixed, q to exit p\n"
     ]
    },
    {
     "name": "stdout",
     "output_type": "stream",
     "text": [
      "\n",
      "\n",
      "@anabpferreira obrigada baby 😍\n"
     ]
    },
    {
     "name": "stdin",
     "output_type": "stream",
     "text": [
      "p for positive, n for negative, m for mixed, q to exit p\n"
     ]
    },
    {
     "name": "stdout",
     "output_type": "stream",
     "text": [
      "\n",
      "\n",
      "@MarioMachado777 Obrigado também meu amigo, é simpática sim senhor, e na sequência da conversa de há dias, com o tempo a passar, está cada vez mais parecida, com a tua mãe.\n",
      "Retribui os cumprimentos, e um beijinho, e para ti, já sabes, aquele abraço 💪\n"
     ]
    },
    {
     "name": "stdin",
     "output_type": "stream",
     "text": [
      "p for positive, n for negative, m for mixed, q to exit p\n"
     ]
    },
    {
     "name": "stdout",
     "output_type": "stream",
     "text": [
      "\n",
      "\n",
      "@amyslove_ Obrigado!\n"
     ]
    },
    {
     "name": "stdin",
     "output_type": "stream",
     "text": [
      "p for positive, n for negative, m for mixed, q to exit p\n"
     ]
    },
    {
     "name": "stdout",
     "output_type": "stream",
     "text": [
      "\n",
      "\n",
      "@Su_santinhos Obrigada minha fofita linda 🤭🤭 beijinho enorme 🥰\n"
     ]
    },
    {
     "name": "stdin",
     "output_type": "stream",
     "text": [
      "p for positive, n for negative, m for mixed, q to exit p\n"
     ]
    },
    {
     "name": "stdout",
     "output_type": "stream",
     "text": [
      "\n",
      "\n",
      "@artural75441618 @Mmacedo_tweets @Rebeldiletante Obrigada :)\n"
     ]
    },
    {
     "name": "stdin",
     "output_type": "stream",
     "text": [
      "p for positive, n for negative, m for mixed, q to exit p\n"
     ]
    },
    {
     "name": "stdout",
     "output_type": "stream",
     "text": [
      "\n",
      "\n",
      "@manuel_lopes8 Obrigado\n"
     ]
    },
    {
     "name": "stdin",
     "output_type": "stream",
     "text": [
      "p for positive, n for negative, m for mixed, q to exit p\n"
     ]
    },
    {
     "name": "stdout",
     "output_type": "stream",
     "text": [
      "\n",
      "\n",
      "@Murlokzz que desgraça amo te obrigado\n"
     ]
    },
    {
     "name": "stdin",
     "output_type": "stream",
     "text": [
      "p for positive, n for negative, m for mixed, q to exit m\n"
     ]
    },
    {
     "name": "stdout",
     "output_type": "stream",
     "text": [
      "\n",
      "\n",
      "@pedrojdoc Identifiquei-me bastante com as tuas palavras Pedro. Ajuda saber que não fomos o únicos a passar por estas coisas. Obrigado pelo teu testemunho 🙏\n"
     ]
    },
    {
     "name": "stdin",
     "output_type": "stream",
     "text": [
      "p for positive, n for negative, m for mixed, q to exit p\n"
     ]
    },
    {
     "name": "stdout",
     "output_type": "stream",
     "text": [
      "\n",
      "\n",
      "@marisa18v OBRIGADA!!!!\n"
     ]
    },
    {
     "name": "stdin",
     "output_type": "stream",
     "text": [
      "p for positive, n for negative, m for mixed, q to exit p\n"
     ]
    },
    {
     "name": "stdout",
     "output_type": "stream",
     "text": [
      "\n",
      "\n",
      "@sofs1904 Obrigado!! 💪\n"
     ]
    },
    {
     "name": "stdin",
     "output_type": "stream",
     "text": [
      "p for positive, n for negative, m for mixed, q to exit p\n"
     ]
    },
    {
     "name": "stdout",
     "output_type": "stream",
     "text": [
      "\n",
      "\n",
      "@Cassurdio Obrigada ☺️\n"
     ]
    },
    {
     "name": "stdin",
     "output_type": "stream",
     "text": [
      "p for positive, n for negative, m for mixed, q to exit p\n"
     ]
    },
    {
     "name": "stdout",
     "output_type": "stream",
     "text": [
      "\n",
      "\n",
      "@csc11 @Rebeldiletante Obrigada ❤️\n"
     ]
    },
    {
     "name": "stdin",
     "output_type": "stream",
     "text": [
      "p for positive, n for negative, m for mixed, q to exit p\n"
     ]
    },
    {
     "name": "stdout",
     "output_type": "stream",
     "text": [
      "\n",
      "\n",
      "Excelente terapia hoje Malta, muito obrigado @benfica_fm\n"
     ]
    },
    {
     "name": "stdin",
     "output_type": "stream",
     "text": [
      "p for positive, n for negative, m for mixed, q to exit p\n"
     ]
    },
    {
     "name": "stdout",
     "output_type": "stream",
     "text": [
      "\n",
      "\n",
      "Måneskin é a minha nova religião, obrigada pela vossa atenção\n"
     ]
    },
    {
     "name": "stdin",
     "output_type": "stream",
     "text": [
      "p for positive, n for negative, m for mixed, q to exit p\n"
     ]
    },
    {
     "name": "stdout",
     "output_type": "stream",
     "text": [
      "\n",
      "\n",
      "OK ACHO Q VIRGENS MM ME DEIXARAM DE SEGUIR OBRIGADA JURO https://t.co/MGX0N5R41M\n"
     ]
    },
    {
     "name": "stdin",
     "output_type": "stream",
     "text": [
      "p for positive, n for negative, m for mixed, q to exit m\n"
     ]
    },
    {
     "name": "stdout",
     "output_type": "stream",
     "text": [
      "\n",
      "\n",
      "@TheEmanuel21 Obrigada e igualmente!\n",
      "Eu cá prefeito que sorria para estes lados\n"
     ]
    },
    {
     "name": "stdin",
     "output_type": "stream",
     "text": [
      "p for positive, n for negative, m for mixed, q to exit p\n"
     ]
    },
    {
     "name": "stdout",
     "output_type": "stream",
     "text": [
      "\n",
      "\n",
      "Obrigado De Gea já tava farto\n"
     ]
    },
    {
     "name": "stdin",
     "output_type": "stream",
     "text": [
      "p for positive, n for negative, m for mixed, q to exit n\n"
     ]
    },
    {
     "name": "stdout",
     "output_type": "stream",
     "text": [
      "\n",
      "\n",
      "me tirou da depressão por essa noite, obrigada @Flamengo https://t.co/RKzc18ueAc\n"
     ]
    },
    {
     "name": "stdin",
     "output_type": "stream",
     "text": [
      "p for positive, n for negative, m for mixed, q to exit p\n"
     ]
    },
    {
     "name": "stdout",
     "output_type": "stream",
     "text": [
      "\n",
      "\n",
      "@TheRealBJSF Obrigada 🖤\n"
     ]
    },
    {
     "name": "stdin",
     "output_type": "stream",
     "text": [
      "p for positive, n for negative, m for mixed, q to exit p\n"
     ]
    },
    {
     "name": "stdout",
     "output_type": "stream",
     "text": [
      "\n",
      "\n",
      "@kappa7w0 @joaquim63521044 Mas vês sempre os tweets e sempre a criticar-me 😂😂. Obrigado fã.\n"
     ]
    },
    {
     "name": "stdin",
     "output_type": "stream",
     "text": [
      "p for positive, n for negative, m for mixed, q to exit m\n"
     ]
    },
    {
     "name": "stdout",
     "output_type": "stream",
     "text": [
      "\n",
      "\n",
      "Obrigado Islândia\n"
     ]
    },
    {
     "name": "stdin",
     "output_type": "stream",
     "text": [
      "p for positive, n for negative, m for mixed, q to exit p\n"
     ]
    },
    {
     "name": "stdout",
     "output_type": "stream",
     "text": [
      "\n",
      "\n",
      "@maria11terra Esse título seria igual ao de sexta à noite em q começar a aparecer as primeiras notícias. #\n",
      "Avião desviado\n",
      "Avião desviado para Minsk#\n",
      "Aviao desviado para Minsk aterra obrigada por Migs\n"
     ]
    },
    {
     "name": "stdin",
     "output_type": "stream",
     "text": [
      "p for positive, n for negative, m for mixed, q to exit p\n"
     ]
    },
    {
     "name": "stdout",
     "output_type": "stream",
     "text": [
      "\n",
      "\n",
      "0000 @SkyyxParker obrigada por tudinho, te amo.\n"
     ]
    },
    {
     "name": "stdin",
     "output_type": "stream",
     "text": [
      "p for positive, n for negative, m for mixed, q to exit p\n"
     ]
    },
    {
     "name": "stdout",
     "output_type": "stream",
     "text": [
      "\n",
      "\n",
      "@belasheridan Fazendo sem falta essa semana e mando review! Obrigado por essa benção 😭🥰\n"
     ]
    },
    {
     "name": "stdin",
     "output_type": "stream",
     "text": [
      "p for positive, n for negative, m for mixed, q to exit p\n"
     ]
    },
    {
     "name": "stdout",
     "output_type": "stream",
     "text": [
      "\n",
      "\n",
      "@novosemjuizo Juro que bartolo foi o melhor que ouvi hoje ahahah obrigado mesmo ahaha\n"
     ]
    },
    {
     "name": "stdin",
     "output_type": "stream",
     "text": [
      "p for positive, n for negative, m for mixed, q to exit p\n"
     ]
    },
    {
     "name": "stdout",
     "output_type": "stream",
     "text": [
      "\n",
      "\n",
      "@Theeriecold Para os pais, os filhos são sempre perfeitos. Um dos meus bullies quando a mãe soube até ficou: \"como assim o meu filhinho? ele até já foi gozado no passado, é impossível ele fazer coisas dessas\"... well, obrigado pelos traumas :)\n",
      "Spoiler: a escola não fez piço :) acabou em nada\n"
     ]
    },
    {
     "name": "stdin",
     "output_type": "stream",
     "text": [
      "p for positive, n for negative, m for mixed, q to exit m\n"
     ]
    },
    {
     "name": "stdout",
     "output_type": "stream",
     "text": [
      "\n",
      "\n"
     ]
    }
   ],
   "source": [
    "evals_obrigado_OR_obrigada = []\n",
    "for tweet in random.sample(list(df.loc[df[\"keyword\"]==\"obrigado OR obrigada\", \"tweet\"]), 50):\n",
    "    print(tweet)\n",
    "    evaluation = input(\"p for positive, n for negative, m for mixed, q to exit\")\n",
    "    print(\"\\n\")\n",
    "    evals_obrigado_OR_obrigada.append(evaluation)\n",
    "    if evaluation == \"q\":\n",
    "        break"
   ]
  },
  {
   "cell_type": "markdown",
   "id": "b22d1968-cd57-487c-b162-1a6fce66afe5",
   "metadata": {},
   "source": [
    "there are many very short tweets with this keyword (many with the keyword alone), which don't positively contribute to the model and might actually throw things out of balance. Either kick out very short tweets or remove this keyword altogether"
   ]
  },
  {
   "cell_type": "code",
   "execution_count": 40,
   "id": "6f4be851-8777-4906-a215-431de22339e8",
   "metadata": {
    "execution": {
     "iopub.execute_input": "2021-06-17T09:28:59.903735Z",
     "iopub.status.busy": "2021-06-17T09:28:59.902738Z",
     "iopub.status.idle": "2021-06-17T09:29:00.243376Z",
     "shell.execute_reply": "2021-06-17T09:29:00.242410Z",
     "shell.execute_reply.started": "2021-06-17T09:28:59.903735Z"
    },
    "tags": []
   },
   "outputs": [],
   "source": [
    "evals_df[\"obrigado_OR_obrigada\"] = pd.Series(evals_obrigado_OR_obrigada).value_counts()/50"
   ]
  },
  {
   "cell_type": "code",
   "execution_count": 42,
   "id": "ccaed622-0a8d-4c33-9706-57a90f5f1d3e",
   "metadata": {
    "execution": {
     "iopub.execute_input": "2021-06-17T09:29:14.386524Z",
     "iopub.status.busy": "2021-06-17T09:29:14.386524Z",
     "iopub.status.idle": "2021-06-17T09:29:14.406469Z",
     "shell.execute_reply": "2021-06-17T09:29:14.405472Z",
     "shell.execute_reply.started": "2021-06-17T09:29:14.386524Z"
    },
    "tags": []
   },
   "outputs": [
    {
     "data": {
      "text/html": [
       "<div>\n",
       "<style scoped>\n",
       "    .dataframe tbody tr th:only-of-type {\n",
       "        vertical-align: middle;\n",
       "    }\n",
       "\n",
       "    .dataframe tbody tr th {\n",
       "        vertical-align: top;\n",
       "    }\n",
       "\n",
       "    .dataframe thead th {\n",
       "        text-align: right;\n",
       "    }\n",
       "</style>\n",
       "<table border=\"1\" class=\"dataframe\">\n",
       "  <thead>\n",
       "    <tr style=\"text-align: right;\">\n",
       "      <th></th>\n",
       "      <th>feliz</th>\n",
       "      <th>amor</th>\n",
       "      <th>obrigado_OR_obrigada</th>\n",
       "    </tr>\n",
       "  </thead>\n",
       "  <tbody>\n",
       "    <tr>\n",
       "      <th>p</th>\n",
       "      <td>0.82</td>\n",
       "      <td>0.74</td>\n",
       "      <td>0.82</td>\n",
       "    </tr>\n",
       "    <tr>\n",
       "      <th>m</th>\n",
       "      <td>0.14</td>\n",
       "      <td>0.08</td>\n",
       "      <td>0.12</td>\n",
       "    </tr>\n",
       "    <tr>\n",
       "      <th>n</th>\n",
       "      <td>0.04</td>\n",
       "      <td>0.18</td>\n",
       "      <td>0.06</td>\n",
       "    </tr>\n",
       "  </tbody>\n",
       "</table>\n",
       "</div>"
      ],
      "text/plain": [
       "   feliz  amor  obrigado_OR_obrigada\n",
       "p   0.82  0.74                  0.82\n",
       "m   0.14  0.08                  0.12\n",
       "n   0.04  0.18                  0.06"
      ]
     },
     "execution_count": 42,
     "metadata": {},
     "output_type": "execute_result"
    }
   ],
   "source": [
    "evals_df"
   ]
  }
 ],
 "metadata": {
  "kernelspec": {
   "display_name": "Python 3 (ipykernel)",
   "language": "python",
   "name": "python3"
  },
  "language_info": {
   "codemirror_mode": {
    "name": "ipython",
    "version": 3
   },
   "file_extension": ".py",
   "mimetype": "text/x-python",
   "name": "python",
   "nbconvert_exporter": "python",
   "pygments_lexer": "ipython3",
   "version": "3.9.6"
  }
 },
 "nbformat": 4,
 "nbformat_minor": 5
}
