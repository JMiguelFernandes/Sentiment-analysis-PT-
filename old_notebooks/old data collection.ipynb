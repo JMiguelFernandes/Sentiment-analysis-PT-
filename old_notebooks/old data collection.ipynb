{
 "cells": [
  {
   "cell_type": "markdown",
   "metadata": {},
   "source": [
    "# Sourcing the data\n",
    "\n",
    "For my first attempt at collecting data for the training dataset, I wanted to use twitter data. I first thoguht of this after reading [two](https://www.researchgate.net/publication/262175717_Sentiment_Analysis_on_Twitter_Data_for_Portuguese_Language) [papers](researchgate.net/publication/221297835_Twitter_Sentiment_Analysis_The_Good_the_Bad_and_the_OMG) that used tweets\n",
    "with determined polarities (based on emoticon or specific hashtag use) as test datasets for their own previously developed sentiment analysis models. So I thought, why not use tweet data as a training dataset?\n",
    "As it turns out, this was a bad idea. Portuguese twitter is mostly one of three things: football, complaining about the portuguese government, and complaining about other things. The language used is extremely informal and relies heavily on sarcasm, making it unsuitable for the purpose of this project. \n",
    "\n",
    "two days later: Actually, it might not be as bad as that. My first batch of tweets was extremely football-y in part because there had been a big football event that day. A couple of days later, \"futebol\" was still the most common non-stopword in the set, so this could be a lasting effect, but it's too early to tell. Sarcasm is a bigger problem; that's why I will try to evaluate a sample of tweets to assess the percentage of real positives/negatives in the assumed positive/negative sets. If it is over 15% (arbitrary choice here) maybe it's not a good idea to use this data as a training dataset, but if it is below it could be good enough. Anyway, avoid perfectionism! \n",
    "\n",
    "Refs: \n",
    "1. Souza, Vieira, Sentiment Analysis on Twitter Data for Portuguese Language, 2012, Proceedings of the 10th international conference on Computational Processing of the Portuguese Language\n",
    "2. Koulompis et al, Twitter Sentiment Analysis: The Good the Bad and the OMG!, 2011, Proceedings of the Fifth International AAAI Conference on Weblogs and Social Media"
   ]
  },
  {
   "cell_type": "markdown",
   "metadata": {},
   "source": [
    "Next steps:\n",
    "- select a few more keywords, positive and negative\n",
    "- collect tweets over a few days (try to reachat least 10000)\n",
    "- evaluate the tweets: manually anotate a random sample of tweets as positive, negative or mixed. Maybe ask Ana or Damiana for help with this so that it is done in a sort of blind way\n",
    "- once this is done, start with model training\n"
   ]
  },
  {
   "cell_type": "markdown",
   "metadata": {},
   "source": [
    "Positive keyword ideas:\n",
    "- feliz\n",
    "- amor\n",
    "- obrigado\n",
    "- ótimo\n",
    "- que bom\n",
    "- parabéns\n",
    "\n",
    "Negative keyword ideas:\n",
    "- fml\n",
    "- péssimo\n",
    "- trágico\n",
    "- horrível\n",
    "- muito mau\n",
    "- terrível"
   ]
  },
  {
   "cell_type": "code",
   "execution_count": 1,
   "metadata": {
    "execution": {
     "iopub.execute_input": "2021-05-17T11:43:34.291096Z",
     "iopub.status.busy": "2021-05-17T11:43:34.290098Z",
     "iopub.status.idle": "2021-05-17T11:43:37.042987Z",
     "shell.execute_reply": "2021-05-17T11:43:37.042032Z",
     "shell.execute_reply.started": "2021-05-17T11:43:34.291096Z"
    }
   },
   "outputs": [],
   "source": [
    "import pandas as pd\n",
    "import tweepy as tw\n",
    "import os\n",
    "import json\n",
    "from sklearn.feature_extraction.text import CountVectorizer\n",
    "from nltk.corpus import stopwords\n",
    "from nltk.stem import RSLPStemmer\n",
    "import re\n",
    "from string import punctuation\n",
    "import pickle"
   ]
  },
  {
   "cell_type": "code",
   "execution_count": 2,
   "metadata": {
    "execution": {
     "iopub.execute_input": "2021-05-17T11:43:37.059976Z",
     "iopub.status.busy": "2021-05-17T11:43:37.059976Z",
     "iopub.status.idle": "2021-05-17T11:43:37.074903Z",
     "shell.execute_reply": "2021-05-17T11:43:37.073920Z",
     "shell.execute_reply.started": "2021-05-17T11:43:37.059976Z"
    }
   },
   "outputs": [],
   "source": [
    "consumer_secret = os.getenv(\"CONSUMER_SECRET\")\n",
    "consumer_key = os.getenv(\"CONSUMER_KEY\")"
   ]
  },
  {
   "cell_type": "code",
   "execution_count": 4,
   "metadata": {
    "execution": {
     "iopub.execute_input": "2021-05-14T07:56:35.539153Z",
     "iopub.status.busy": "2021-05-14T07:56:35.539153Z",
     "iopub.status.idle": "2021-05-14T07:56:35.547132Z",
     "shell.execute_reply": "2021-05-14T07:56:35.546160Z",
     "shell.execute_reply.started": "2021-05-14T07:56:35.539153Z"
    }
   },
   "outputs": [],
   "source": [
    "auth = tw.OAuthHandler(consumer_key, consumer_secret)\n",
    "api = tw.API(auth)"
   ]
  },
  {
   "cell_type": "code",
   "execution_count": 5,
   "metadata": {
    "execution": {
     "iopub.execute_input": "2021-05-14T07:56:36.128581Z",
     "iopub.status.busy": "2021-05-14T07:56:36.127578Z",
     "iopub.status.idle": "2021-05-14T07:56:36.144533Z",
     "shell.execute_reply": "2021-05-14T07:56:36.143566Z",
     "shell.execute_reply.started": "2021-05-14T07:56:36.128581Z"
    }
   },
   "outputs": [],
   "source": [
    "# The twitter API allows for searching tweets in a certain geographical area, defined as a circle of a certain radius around \n",
    "# a certain pair of coordinates. The circle defined by these parameters includes all of mainland Portugal and a chunk of Spain\n",
    "coords = \"39.596860,-8.036780,288.85289km\""
   ]
  },
  {
   "cell_type": "code",
   "execution_count": 6,
   "metadata": {
    "execution": {
     "iopub.execute_input": "2021-05-14T07:56:40.230937Z",
     "iopub.status.busy": "2021-05-14T07:56:40.230937Z",
     "iopub.status.idle": "2021-05-14T07:56:44.767651Z",
     "shell.execute_reply": "2021-05-14T07:56:44.767651Z",
     "shell.execute_reply.started": "2021-05-14T07:56:40.230937Z"
    }
   },
   "outputs": [],
   "source": [
    "data = []\n",
    "for tweet in tw.Cursor(api.search, \n",
    "                       q=\"fantastico -filter:retweets\", \n",
    "                       lang=\"pt\", \n",
    "                       tweet_mode=\"extended\", \n",
    "                       geocode=coords).items(100):\n",
    "    data.append(tweet)"
   ]
  },
  {
   "cell_type": "code",
   "execution_count": 40,
   "metadata": {
    "execution": {
     "iopub.execute_input": "2021-05-14T08:15:36.472738Z",
     "iopub.status.busy": "2021-05-14T08:15:36.472738Z",
     "iopub.status.idle": "2021-05-14T08:15:36.496674Z",
     "shell.execute_reply": "2021-05-14T08:15:36.495675Z",
     "shell.execute_reply.started": "2021-05-14T08:15:36.472738Z"
    }
   },
   "outputs": [
    {
     "data": {
      "text/plain": [
       "{'created_at': 'Thu May 13 21:00:15 +0000 2021',\n",
       " 'id': 1392947822107009029,\n",
       " 'id_str': '1392947822107009029',\n",
       " 'full_text': '@SPORTTVPortugal @Cristiano @Sporting_CP @DoloresAveiro A Ganza é boa ! Dassss . Eu tb se fumasse umas achava que estava no meu fantastico iate ao largo de Capri 🤪😏',\n",
       " 'truncated': False,\n",
       " 'display_text_range': [56, 164],\n",
       " 'entities': {'hashtags': [],\n",
       "  'symbols': [],\n",
       "  'user_mentions': [{'screen_name': 'SPORTTVPortugal',\n",
       "    'name': 'SPORT TV',\n",
       "    'id': 40019154,\n",
       "    'id_str': '40019154',\n",
       "    'indices': [0, 16]},\n",
       "   {'screen_name': 'Cristiano',\n",
       "    'name': 'Cristiano Ronaldo',\n",
       "    'id': 155659213,\n",
       "    'id_str': '155659213',\n",
       "    'indices': [17, 27]},\n",
       "   {'screen_name': 'Sporting_CP',\n",
       "    'name': 'Sporting Clube de Portugal 🏆',\n",
       "    'id': 21389998,\n",
       "    'id_str': '21389998',\n",
       "    'indices': [28, 40]},\n",
       "   {'screen_name': 'DoloresAveiro',\n",
       "    'name': 'Dolores Aveiro',\n",
       "    'id': 4144404274,\n",
       "    'id_str': '4144404274',\n",
       "    'indices': [41, 55]}],\n",
       "  'urls': []},\n",
       " 'metadata': {'iso_language_code': 'pt', 'result_type': 'recent'},\n",
       " 'source': '<a href=\"http://twitter.com/download/android\" rel=\"nofollow\">Twitter for Android</a>',\n",
       " 'in_reply_to_status_id': 1392906949008797698,\n",
       " 'in_reply_to_status_id_str': '1392906949008797698',\n",
       " 'in_reply_to_user_id': 40019154,\n",
       " 'in_reply_to_user_id_str': '40019154',\n",
       " 'in_reply_to_screen_name': 'SPORTTVPortugal',\n",
       " 'user': {'id': 1277975805046345730,\n",
       "  'id_str': '1277975805046345730',\n",
       "  'name': 'Antonio',\n",
       "  'screen_name': 'Antonio41077522',\n",
       "  'location': 'Porto, Portugal',\n",
       "  'description': '',\n",
       "  'url': None,\n",
       "  'entities': {'description': {'urls': []}},\n",
       "  'protected': False,\n",
       "  'followers_count': 61,\n",
       "  'friends_count': 131,\n",
       "  'listed_count': 0,\n",
       "  'created_at': 'Tue Jun 30 14:42:50 +0000 2020',\n",
       "  'favourites_count': 7065,\n",
       "  'utc_offset': None,\n",
       "  'time_zone': None,\n",
       "  'geo_enabled': False,\n",
       "  'verified': False,\n",
       "  'statuses_count': 2354,\n",
       "  'lang': None,\n",
       "  'contributors_enabled': False,\n",
       "  'is_translator': False,\n",
       "  'is_translation_enabled': False,\n",
       "  'profile_background_color': 'F5F8FA',\n",
       "  'profile_background_image_url': None,\n",
       "  'profile_background_image_url_https': None,\n",
       "  'profile_background_tile': False,\n",
       "  'profile_image_url': 'http://pbs.twimg.com/profile_images/1356660873176178689/X4SFolHy_normal.jpg',\n",
       "  'profile_image_url_https': 'https://pbs.twimg.com/profile_images/1356660873176178689/X4SFolHy_normal.jpg',\n",
       "  'profile_banner_url': 'https://pbs.twimg.com/profile_banners/1277975805046345730/1593529274',\n",
       "  'profile_link_color': '1DA1F2',\n",
       "  'profile_sidebar_border_color': 'C0DEED',\n",
       "  'profile_sidebar_fill_color': 'DDEEF6',\n",
       "  'profile_text_color': '333333',\n",
       "  'profile_use_background_image': True,\n",
       "  'has_extended_profile': True,\n",
       "  'default_profile': True,\n",
       "  'default_profile_image': False,\n",
       "  'following': None,\n",
       "  'follow_request_sent': None,\n",
       "  'notifications': None,\n",
       "  'translator_type': 'none',\n",
       "  'withheld_in_countries': []},\n",
       " 'geo': None,\n",
       " 'coordinates': None,\n",
       " 'place': None,\n",
       " 'contributors': None,\n",
       " 'is_quote_status': False,\n",
       " 'retweet_count': 0,\n",
       " 'favorite_count': 0,\n",
       " 'favorited': False,\n",
       " 'retweeted': False,\n",
       " 'lang': 'pt'}"
      ]
     },
     "execution_count": 40,
     "metadata": {},
     "output_type": "execute_result"
    }
   ],
   "source": [
    "data[6]._json"
   ]
  },
  {
   "cell_type": "markdown",
   "metadata": {},
   "source": [
    "What i want to do now:\n",
    "\n",
    "for each searchword:\n",
    "- build a dataframe containing tweet ids, created_at and full_text\n",
    "- check in csv what's the most recent tweet in the csv\n",
    "- write to csv from the oldest tweet that is not present in the csv already, in order to avoid duplicates\n",
    "\n",
    "\n",
    "The next step is to build a function that does all of this:\n",
    "- given a searchword (and maybe a since date), submit a query to the twitter api to retrieve tweets\n",
    "- write the relevant info into a csv as detailed above\n",
    "\n",
    "By the end of this, I should have several csvs, one for each searchword, that i can keep adding to every day."
   ]
  },
  {
   "cell_type": "code",
   "execution_count": 75,
   "metadata": {
    "execution": {
     "iopub.execute_input": "2021-05-14T08:45:31.125452Z",
     "iopub.status.busy": "2021-05-14T08:45:31.125452Z",
     "iopub.status.idle": "2021-05-14T08:45:31.139415Z",
     "shell.execute_reply": "2021-05-14T08:45:31.138416Z",
     "shell.execute_reply.started": "2021-05-14T08:45:31.125452Z"
    }
   },
   "outputs": [
    {
     "data": {
      "text/html": [
       "<div>\n",
       "<style scoped>\n",
       "    .dataframe tbody tr th:only-of-type {\n",
       "        vertical-align: middle;\n",
       "    }\n",
       "\n",
       "    .dataframe tbody tr th {\n",
       "        vertical-align: top;\n",
       "    }\n",
       "\n",
       "    .dataframe thead th {\n",
       "        text-align: right;\n",
       "    }\n",
       "</style>\n",
       "<table border=\"1\" class=\"dataframe\">\n",
       "  <thead>\n",
       "    <tr style=\"text-align: right;\">\n",
       "      <th></th>\n",
       "      <th>id</th>\n",
       "      <th>created_at</th>\n",
       "      <th>full_text</th>\n",
       "    </tr>\n",
       "  </thead>\n",
       "  <tbody>\n",
       "    <tr>\n",
       "      <th>0</th>\n",
       "      <td>1393016224796262402</td>\n",
       "      <td>Fri May 14 01:32:03 +0000 2021</td>\n",
       "      <td>@fhf @ThatKevinSmith @netflix @NetflixPT @Mast...</td>\n",
       "    </tr>\n",
       "    <tr>\n",
       "      <th>1</th>\n",
       "      <td>1393006816821395456</td>\n",
       "      <td>Fri May 14 00:54:40 +0000 2021</td>\n",
       "      <td>@TrolhaDoCacifo Sim o Vrangadas é um president...</td>\n",
       "    </tr>\n",
       "    <tr>\n",
       "      <th>2</th>\n",
       "      <td>1392993359581548549</td>\n",
       "      <td>Fri May 14 00:01:12 +0000 2021</td>\n",
       "      <td>A @RTP1 começou mesmo agora a emitir 'A Mãe é ...</td>\n",
       "    </tr>\n",
       "    <tr>\n",
       "      <th>3</th>\n",
       "      <td>1392968084630163461</td>\n",
       "      <td>Thu May 13 22:20:46 +0000 2021</td>\n",
       "      <td>@bracaroluc @adrix_Santos @AndreCVentura @Remi...</td>\n",
       "    </tr>\n",
       "    <tr>\n",
       "      <th>4</th>\n",
       "      <td>1392965988669341700</td>\n",
       "      <td>Thu May 13 22:12:26 +0000 2021</td>\n",
       "      <td>Fantástico https://t.co/DO4DUcj0zq</td>\n",
       "    </tr>\n",
       "  </tbody>\n",
       "</table>\n",
       "</div>"
      ],
      "text/plain": [
       "                    id                      created_at  \\\n",
       "0  1393016224796262402  Fri May 14 01:32:03 +0000 2021   \n",
       "1  1393006816821395456  Fri May 14 00:54:40 +0000 2021   \n",
       "2  1392993359581548549  Fri May 14 00:01:12 +0000 2021   \n",
       "3  1392968084630163461  Thu May 13 22:20:46 +0000 2021   \n",
       "4  1392965988669341700  Thu May 13 22:12:26 +0000 2021   \n",
       "\n",
       "                                           full_text  \n",
       "0  @fhf @ThatKevinSmith @netflix @NetflixPT @Mast...  \n",
       "1  @TrolhaDoCacifo Sim o Vrangadas é um president...  \n",
       "2  A @RTP1 começou mesmo agora a emitir 'A Mãe é ...  \n",
       "3  @bracaroluc @adrix_Santos @AndreCVentura @Remi...  \n",
       "4                 Fantástico https://t.co/DO4DUcj0zq  "
      ]
     },
     "execution_count": 75,
     "metadata": {},
     "output_type": "execute_result"
    }
   ],
   "source": [
    "tweet_df = pd.DataFrame(\n",
    "    [[data[i]._json[\"id\"], data[i]._json[\"created_at\"], data[i]._json[\"full_text\"]] for i in range(len(data))], \n",
    "    columns = [\"id\", \"created_at\", \"full_text\"]\n",
    "    )\n",
    "\n",
    "tweet_df.head()"
   ]
  },
  {
   "cell_type": "code",
   "execution_count": 76,
   "metadata": {
    "execution": {
     "iopub.execute_input": "2021-05-14T08:45:31.320156Z",
     "iopub.status.busy": "2021-05-14T08:45:31.319159Z",
     "iopub.status.idle": "2021-05-14T08:45:31.334125Z",
     "shell.execute_reply": "2021-05-14T08:45:31.333120Z",
     "shell.execute_reply.started": "2021-05-14T08:45:31.319159Z"
    }
   },
   "outputs": [
    {
     "data": {
      "text/plain": [
       "id             int64\n",
       "created_at    object\n",
       "full_text     object\n",
       "dtype: object"
      ]
     },
     "execution_count": 76,
     "metadata": {},
     "output_type": "execute_result"
    }
   ],
   "source": [
    "tweet_df.dtypes"
   ]
  },
  {
   "cell_type": "code",
   "execution_count": 81,
   "metadata": {
    "execution": {
     "iopub.execute_input": "2021-05-14T08:54:36.183594Z",
     "iopub.status.busy": "2021-05-14T08:54:36.183594Z",
     "iopub.status.idle": "2021-05-14T08:54:36.217503Z",
     "shell.execute_reply": "2021-05-14T08:54:36.216503Z",
     "shell.execute_reply.started": "2021-05-14T08:54:36.183594Z"
    }
   },
   "outputs": [
    {
     "data": {
      "text/plain": [
       "id                          int64\n",
       "created_at    datetime64[ns, UTC]\n",
       "full_text                  object\n",
       "dtype: object"
      ]
     },
     "execution_count": 81,
     "metadata": {},
     "output_type": "execute_result"
    }
   ],
   "source": [
    "tweet_df[\"created_at\"] = pd.to_datetime(tweet_df[\"created_at\"])\n",
    "tweet_df.dtypes"
   ]
  },
  {
   "cell_type": "code",
   "execution_count": 80,
   "metadata": {
    "execution": {
     "iopub.execute_input": "2021-05-14T08:52:24.301723Z",
     "iopub.status.busy": "2021-05-14T08:52:24.301723Z",
     "iopub.status.idle": "2021-05-14T08:52:24.317677Z",
     "shell.execute_reply": "2021-05-14T08:52:24.316674Z",
     "shell.execute_reply.started": "2021-05-14T08:52:24.301723Z"
    }
   },
   "outputs": [],
   "source": [
    "keyword = \"fantástico\"\n",
    "\n",
    "tweet_df.to_csv(f\"data/raw_tweets_{keyword}.csv\", index=False)\n"
   ]
  },
  {
   "cell_type": "code",
   "execution_count": 83,
   "metadata": {
    "execution": {
     "iopub.execute_input": "2021-05-14T08:55:28.898513Z",
     "iopub.status.busy": "2021-05-14T08:55:28.897516Z",
     "iopub.status.idle": "2021-05-14T08:55:28.904502Z",
     "shell.execute_reply": "2021-05-14T08:55:28.904502Z",
     "shell.execute_reply.started": "2021-05-14T08:55:28.898513Z"
    }
   },
   "outputs": [],
   "source": [
    "most_recent_saved_tweet = pd.read_csv(f\"data/raw_tweets_{keyword}.csv\", nrows=1)"
   ]
  },
  {
   "cell_type": "code",
   "execution_count": 102,
   "metadata": {
    "execution": {
     "iopub.execute_input": "2021-05-14T09:06:17.239213Z",
     "iopub.status.busy": "2021-05-14T09:06:17.239213Z",
     "iopub.status.idle": "2021-05-14T09:06:17.256146Z",
     "shell.execute_reply": "2021-05-14T09:06:17.255177Z",
     "shell.execute_reply.started": "2021-05-14T09:06:17.239213Z"
    }
   },
   "outputs": [
    {
     "data": {
      "text/plain": [
       "0     False\n",
       "1     False\n",
       "2     False\n",
       "3     False\n",
       "4     False\n",
       "      ...  \n",
       "95    False\n",
       "96    False\n",
       "97    False\n",
       "98    False\n",
       "99    False\n",
       "Name: created_at, Length: 100, dtype: bool"
      ]
     },
     "execution_count": 102,
     "metadata": {},
     "output_type": "execute_result"
    }
   ],
   "source": [
    "tweet_df[\"created_at\"] > pd.to_datetime(most_recent_saved_tweet.loc[0, \"created_at\"])"
   ]
  },
  {
   "cell_type": "code",
   "execution_count": null,
   "metadata": {},
   "outputs": [],
   "source": []
  },
  {
   "cell_type": "code",
   "execution_count": 34,
   "metadata": {
    "execution": {
     "iopub.execute_input": "2021-05-21T07:59:59.443003Z",
     "iopub.status.busy": "2021-05-21T07:59:59.443003Z",
     "iopub.status.idle": "2021-05-21T07:59:59.647307Z",
     "shell.execute_reply": "2021-05-21T07:59:59.646310Z",
     "shell.execute_reply.started": "2021-05-21T07:59:59.443003Z"
    }
   },
   "outputs": [],
   "source": [
    "def get_tweets(keyword):\n",
    "    '''This function submits a query to the twitter API to search for tweets in portuguese from users in Portugal containing\n",
    "    a keyword (excluding retweets). Tweet ids, date of creation and text are stored as a dataframe and written to a csv file \n",
    "    in \\data folder. Only tweets that are more recent than the first entry already present in the csv are written, to avoid \n",
    "    duplicates.'''\n",
    "    \n",
    "    \n",
    "    # Checking if there is already a file with the since_id for this keyword:\n",
    "    \n",
    "    try:\n",
    "        myfile = open(f\"data/{keyword}.txt\", \"r\")\n",
    "        since_id = myfile.read()\n",
    "        myfile.close()\n",
    "    except FileNotFoundError:\n",
    "        since_id = \"\"\n",
    "        \n",
    "        \n",
    "    # Authentication\n",
    "    \n",
    "    consumer_secret = os.getenv(\"CONSUMER_SECRET\")\n",
    "    consumer_key = os.getenv(\"CONSUMER_KEY\")\n",
    "    \n",
    "    auth = tw.OAuthHandler(consumer_key, consumer_secret)\n",
    "    api = tw.API(auth)\n",
    "    \n",
    "    \n",
    "    # Query submission; full results are stored in a dataframe temporarily\n",
    "    \n",
    "    coords = \"39.596860,-8.036780,288.85289km\" # These coordinates encompass all of mainland Portugal and a chunk of Spain\n",
    "    \n",
    "    \n",
    "    data = []\n",
    "    \n",
    "    if since_id:\n",
    "        for tweet in tw.Cursor(api.search, \n",
    "                               q=f\"{keyword} -filter:retweets\", \n",
    "                               since_id=since_id,\n",
    "                               lang=\"pt\", \n",
    "                               tweet_mode=\"extended\", \n",
    "                               geocode=coords).items(100):\n",
    "            data.append(tweet)\n",
    "    else:\n",
    "        for tweet in tw.Cursor(api.search, \n",
    "                               q=f\"{keyword} -filter:retweets\",\n",
    "                               lang=\"pt\", \n",
    "                               tweet_mode=\"extended\", \n",
    "                               geocode=coords).items(100):\n",
    "            data.append(tweet)        \n",
    "    \n",
    "    \n",
    "    # Building a dataframe with id, created_at and full_text\n",
    "    \n",
    "    tweet_df = pd.DataFrame(\n",
    "        [[data[i]._json[\"id\"], data[i]._json[\"created_at\"], data[i]._json[\"full_text\"]] for i in range(len(data))], \n",
    "        columns = [\"id\", \"created_at\", \"full_text\"]\n",
    "    )\n",
    "    \n",
    "    tweet_df[\"created_at\"] = pd.to_datetime(tweet_df[\"created_at\"])\n",
    "    \n",
    "    \n",
    "    # Appending all search results to the csv\n",
    "    \n",
    "    tweet_df.to_csv(\n",
    "        f\"data/raw_tweets_{keyword}.csv\", \n",
    "        mode=\"a\", \n",
    "        header=False, \n",
    "        index=False)\n",
    "    \n",
    "    n_new_lines = len(tweet_df)\n",
    "    print(f\"Successfully wrote {n_new_lines} lines to the data/raw_tweets_{keyword}.csv\")\n",
    "    \n",
    "    \n",
    "    # Updating since_id in txt file\n",
    "    \n",
    "    myfile = open(f\"data/{keyword}.txt\", \"w+\")\n",
    "    myfile.write(str(tweet_df.loc[0,\"id\"]))\n",
    "    myfile.close()\n",
    "    \n",
    "    return(tweet_df)"
   ]
  },
  {
   "cell_type": "code",
   "execution_count": 36,
   "metadata": {
    "execution": {
     "iopub.execute_input": "2021-05-21T08:03:50.232962Z",
     "iopub.status.busy": "2021-05-21T08:03:50.232962Z",
     "iopub.status.idle": "2021-05-21T08:03:55.062315Z",
     "shell.execute_reply": "2021-05-21T08:03:55.062315Z",
     "shell.execute_reply.started": "2021-05-21T08:03:50.232962Z"
    }
   },
   "outputs": [
    {
     "name": "stdout",
     "output_type": "stream",
     "text": [
      "Successfully wrote 100 lines to the data/raw_tweets_maravilha OR maravilhoso OR maravilhosa.csv\n"
     ]
    }
   ],
   "source": [
    "maravilha_maravilhoso_maravilhosa = get_tweets(\"maravilha OR maravilhoso OR maravilhosa\")"
   ]
  },
  {
   "cell_type": "code",
   "execution_count": 37,
   "metadata": {
    "execution": {
     "iopub.execute_input": "2021-05-21T08:05:06.132935Z",
     "iopub.status.busy": "2021-05-21T08:05:06.132935Z",
     "iopub.status.idle": "2021-05-21T08:05:06.148544Z",
     "shell.execute_reply": "2021-05-21T08:05:06.148544Z",
     "shell.execute_reply.started": "2021-05-21T08:05:06.132935Z"
    }
   },
   "outputs": [
    {
     "data": {
      "text/html": [
       "<div>\n",
       "<style scoped>\n",
       "    .dataframe tbody tr th:only-of-type {\n",
       "        vertical-align: middle;\n",
       "    }\n",
       "\n",
       "    .dataframe tbody tr th {\n",
       "        vertical-align: top;\n",
       "    }\n",
       "\n",
       "    .dataframe thead th {\n",
       "        text-align: right;\n",
       "    }\n",
       "</style>\n",
       "<table border=\"1\" class=\"dataframe\">\n",
       "  <thead>\n",
       "    <tr style=\"text-align: right;\">\n",
       "      <th></th>\n",
       "      <th>id</th>\n",
       "      <th>created_at</th>\n",
       "      <th>full_text</th>\n",
       "    </tr>\n",
       "  </thead>\n",
       "  <tbody>\n",
       "    <tr>\n",
       "      <th>0</th>\n",
       "      <td>1395651262465597440</td>\n",
       "      <td>2021-05-21 08:02:45+00:00</td>\n",
       "      <td>Bom diaaaa, que nosso dia seja maravilhoso ❤️</td>\n",
       "    </tr>\n",
       "    <tr>\n",
       "      <th>1</th>\n",
       "      <td>1395651246137225217</td>\n",
       "      <td>2021-05-21 08:02:41+00:00</td>\n",
       "      <td>Começar o dia, e quase ter atropelado as minha...</td>\n",
       "    </tr>\n",
       "    <tr>\n",
       "      <th>2</th>\n",
       "      <td>1395645318981685254</td>\n",
       "      <td>2021-05-21 07:39:08+00:00</td>\n",
       "      <td>@sousamanel1 Que maravilha para o LFV ter apar...</td>\n",
       "    </tr>\n",
       "    <tr>\n",
       "      <th>3</th>\n",
       "      <td>1395644710157443072</td>\n",
       "      <td>2021-05-21 07:36:43+00:00</td>\n",
       "      <td>@bertierrslb Série maravilhosa 🥺🥺</td>\n",
       "    </tr>\n",
       "    <tr>\n",
       "      <th>4</th>\n",
       "      <td>1395639359043420161</td>\n",
       "      <td>2021-05-21 07:15:27+00:00</td>\n",
       "      <td>@NicoleFragosoo Bom dia peituda maravilhosa😍😍</td>\n",
       "    </tr>\n",
       "    <tr>\n",
       "      <th>...</th>\n",
       "      <td>...</td>\n",
       "      <td>...</td>\n",
       "      <td>...</td>\n",
       "    </tr>\n",
       "    <tr>\n",
       "      <th>95</th>\n",
       "      <td>1395419756912685058</td>\n",
       "      <td>2021-05-20 16:42:50+00:00</td>\n",
       "      <td>turma maravilha😎@_raissa_00_</td>\n",
       "    </tr>\n",
       "    <tr>\n",
       "      <th>96</th>\n",
       "      <td>1395412962299596806</td>\n",
       "      <td>2021-05-20 16:15:50+00:00</td>\n",
       "      <td>Desvinculei do Vinculo que afirmava categorica...</td>\n",
       "    </tr>\n",
       "    <tr>\n",
       "      <th>97</th>\n",
       "      <td>1395412755402854401</td>\n",
       "      <td>2021-05-20 16:15:01+00:00</td>\n",
       "      <td>@rubensousa20 O maior cego é aquele que não qu...</td>\n",
       "    </tr>\n",
       "    <tr>\n",
       "      <th>98</th>\n",
       "      <td>1395409487197052930</td>\n",
       "      <td>2021-05-20 16:02:01+00:00</td>\n",
       "      <td>essa pergunta aqui foi de uma fineza maravilho...</td>\n",
       "    </tr>\n",
       "    <tr>\n",
       "      <th>99</th>\n",
       "      <td>1395408023468888068</td>\n",
       "      <td>2021-05-20 15:56:12+00:00</td>\n",
       "      <td>@nranjos O Antão Vaz é uma maravilha</td>\n",
       "    </tr>\n",
       "  </tbody>\n",
       "</table>\n",
       "<p>100 rows × 3 columns</p>\n",
       "</div>"
      ],
      "text/plain": [
       "                     id                created_at  \\\n",
       "0   1395651262465597440 2021-05-21 08:02:45+00:00   \n",
       "1   1395651246137225217 2021-05-21 08:02:41+00:00   \n",
       "2   1395645318981685254 2021-05-21 07:39:08+00:00   \n",
       "3   1395644710157443072 2021-05-21 07:36:43+00:00   \n",
       "4   1395639359043420161 2021-05-21 07:15:27+00:00   \n",
       "..                  ...                       ...   \n",
       "95  1395419756912685058 2021-05-20 16:42:50+00:00   \n",
       "96  1395412962299596806 2021-05-20 16:15:50+00:00   \n",
       "97  1395412755402854401 2021-05-20 16:15:01+00:00   \n",
       "98  1395409487197052930 2021-05-20 16:02:01+00:00   \n",
       "99  1395408023468888068 2021-05-20 15:56:12+00:00   \n",
       "\n",
       "                                            full_text  \n",
       "0       Bom diaaaa, que nosso dia seja maravilhoso ❤️  \n",
       "1   Começar o dia, e quase ter atropelado as minha...  \n",
       "2   @sousamanel1 Que maravilha para o LFV ter apar...  \n",
       "3                   @bertierrslb Série maravilhosa 🥺🥺  \n",
       "4       @NicoleFragosoo Bom dia peituda maravilhosa😍😍  \n",
       "..                                                ...  \n",
       "95                       turma maravilha😎@_raissa_00_  \n",
       "96  Desvinculei do Vinculo que afirmava categorica...  \n",
       "97  @rubensousa20 O maior cego é aquele que não qu...  \n",
       "98  essa pergunta aqui foi de uma fineza maravilho...  \n",
       "99               @nranjos O Antão Vaz é uma maravilha  \n",
       "\n",
       "[100 rows x 3 columns]"
      ]
     },
     "execution_count": 37,
     "metadata": {},
     "output_type": "execute_result"
    }
   ],
   "source": [
    "maravilha_maravilhoso_maravilhosa"
   ]
  },
  {
   "cell_type": "code",
   "execution_count": 39,
   "metadata": {
    "execution": {
     "iopub.execute_input": "2021-05-21T08:12:51.626966Z",
     "iopub.status.busy": "2021-05-21T08:12:51.626966Z",
     "iopub.status.idle": "2021-05-21T08:12:52.350439Z",
     "shell.execute_reply": "2021-05-21T08:12:52.350439Z",
     "shell.execute_reply.started": "2021-05-21T08:12:51.626966Z"
    }
   },
   "outputs": [
    {
     "name": "stdout",
     "output_type": "stream",
     "text": [
      "Successfully wrote 1 lines to the data/raw_tweets_maravilha OR maravilhoso OR maravilhosa.csv\n"
     ]
    },
    {
     "data": {
      "text/html": [
       "<div>\n",
       "<style scoped>\n",
       "    .dataframe tbody tr th:only-of-type {\n",
       "        vertical-align: middle;\n",
       "    }\n",
       "\n",
       "    .dataframe tbody tr th {\n",
       "        vertical-align: top;\n",
       "    }\n",
       "\n",
       "    .dataframe thead th {\n",
       "        text-align: right;\n",
       "    }\n",
       "</style>\n",
       "<table border=\"1\" class=\"dataframe\">\n",
       "  <thead>\n",
       "    <tr style=\"text-align: right;\">\n",
       "      <th></th>\n",
       "      <th>id</th>\n",
       "      <th>created_at</th>\n",
       "      <th>full_text</th>\n",
       "    </tr>\n",
       "  </thead>\n",
       "  <tbody>\n",
       "    <tr>\n",
       "      <th>0</th>\n",
       "      <td>1395652444781174784</td>\n",
       "      <td>2021-05-21 08:07:27+00:00</td>\n",
       "      <td>esse texto é maravilhoso KKKKKKKKKKKK https://...</td>\n",
       "    </tr>\n",
       "  </tbody>\n",
       "</table>\n",
       "</div>"
      ],
      "text/plain": [
       "                    id                created_at  \\\n",
       "0  1395652444781174784 2021-05-21 08:07:27+00:00   \n",
       "\n",
       "                                           full_text  \n",
       "0  esse texto é maravilhoso KKKKKKKKKKKK https://...  "
      ]
     },
     "execution_count": 39,
     "metadata": {},
     "output_type": "execute_result"
    }
   ],
   "source": [
    "get_tweets(\"maravilha OR maravilhoso OR maravilhosa\")"
   ]
  },
  {
   "cell_type": "code",
   "execution_count": null,
   "metadata": {},
   "outputs": [],
   "source": []
  },
  {
   "cell_type": "code",
   "execution_count": null,
   "metadata": {},
   "outputs": [],
   "source": []
  },
  {
   "cell_type": "code",
   "execution_count": null,
   "metadata": {},
   "outputs": [],
   "source": []
  },
  {
   "cell_type": "code",
   "execution_count": null,
   "metadata": {},
   "outputs": [],
   "source": []
  },
  {
   "cell_type": "code",
   "execution_count": null,
   "metadata": {},
   "outputs": [],
   "source": []
  },
  {
   "cell_type": "code",
   "execution_count": null,
   "metadata": {},
   "outputs": [],
   "source": []
  },
  {
   "cell_type": "code",
   "execution_count": null,
   "metadata": {},
   "outputs": [],
   "source": []
  },
  {
   "cell_type": "code",
   "execution_count": null,
   "metadata": {},
   "outputs": [],
   "source": []
  },
  {
   "cell_type": "code",
   "execution_count": null,
   "metadata": {},
   "outputs": [],
   "source": []
  },
  {
   "cell_type": "code",
   "execution_count": null,
   "metadata": {},
   "outputs": [],
   "source": []
  },
  {
   "cell_type": "code",
   "execution_count": null,
   "metadata": {},
   "outputs": [],
   "source": []
  },
  {
   "cell_type": "code",
   "execution_count": null,
   "metadata": {},
   "outputs": [],
   "source": []
  },
  {
   "cell_type": "code",
   "execution_count": null,
   "metadata": {},
   "outputs": [],
   "source": []
  },
  {
   "cell_type": "code",
   "execution_count": null,
   "metadata": {},
   "outputs": [],
   "source": []
  },
  {
   "cell_type": "code",
   "execution_count": null,
   "metadata": {},
   "outputs": [],
   "source": []
  },
  {
   "cell_type": "code",
   "execution_count": null,
   "metadata": {},
   "outputs": [],
   "source": []
  },
  {
   "cell_type": "code",
   "execution_count": 7,
   "metadata": {
    "execution": {
     "iopub.execute_input": "2021-05-14T07:56:46.161768Z",
     "iopub.status.busy": "2021-05-14T07:56:46.161768Z",
     "iopub.status.idle": "2021-05-14T07:56:46.176729Z",
     "shell.execute_reply": "2021-05-14T07:56:46.175764Z",
     "shell.execute_reply.started": "2021-05-14T07:56:46.161768Z"
    }
   },
   "outputs": [
    {
     "data": {
      "text/plain": [
       "['@fhf @ThatKevinSmith @netflix @NetflixPT @MastersOfficial Do que vi até agora só não gostei do que fizeram ao Orko, Teela e Evil Lyn. As outras personagens são muito fiéis ao original da Filmation com um traço moderno. Estou desejoso de ver isto. Se isto culminasse numa nova série de comics com a DC era fantástico.',\n",
       " '@TrolhaDoCacifo Sim o Vrangadas é um presidente fantástico... \"herança pesada\", e o crlh... \"formação ao abandono\"...\\n\\nCom cada estupidez q faz impressão... a herança pesada n foi da antiga direcção, mas sim da herança do Sporting e da sua história.',\n",
       " \"A @RTP1 começou mesmo agora a emitir 'A Mãe é que sabe'. Obrigado!\\nQue fabulosa homenagem à Maria João Abreu! Um filme fantástico da nova vaga do cinema em português.\",\n",
       " '@bracaroluc @adrix_Santos @AndreCVentura @RemindMe_OfThis O meu primeiro computador era igual a ti só sabia fazer uma coisa . Era o ZX Spectrum muito básico. Nasceste num país onde se fala inglês e tu aprendeste... fantástico',\n",
       " 'Fantástico https://t.co/DO4DUcj0zq',\n",
       " 'Saiu mais um fantástico episódio de Pokémon no canal do meu parceiro, @RubenCost_a!!Bora lá apoia lo!!\\nhttps://t.co/QzVGTA7FuR\\n#MagzaoPT #RubenCosta',\n",
       " '@SPORTTVPortugal @Cristiano @Sporting_CP @DoloresAveiro A Ganza é boa ! Dassss . Eu tb se fumasse umas achava que estava no meu fantastico iate ao largo de Capri 🤪😏',\n",
       " 'Ler e reler, artigo fantástico!\\nMas, afinal, o que se passa na Palestina? – Manifesto74 https://t.co/2moz59gzwW',\n",
       " 'O gajo é fantástico https://t.co/XpKaY4PbeJ',\n",
       " 'Ali é que está bem. É um referência local.\\nE é de facto um painel fantástico.\\nMemória de infância: na Páscoa costumavamos ir a feira do Março, e por vezes o meu pai ia por oliveirinha para fugir ao trânsito. A passagem naquele painel era sempre a minha referência. https://t.co/jkbfUb6EZF',\n",
       " '🏀FUNTÁSTICO💛 Divertido, colorido e fantástico! Obra dos Los Pepes, numa iniciativa promovida pela @by_hoopers, @CamaraLisboa, GAU e JF Santa Clara 🔥\\n📍 R. Prof. Adelino da Palma Carlos (Lisboa, Portugal)\\n📸: @by_hoopers / Miguel Fernandes https://t.co/9eAdnfDN6o',\n",
       " '307 mil já pode pedir música no fantástico?\\n#RenanVagabundo',\n",
       " 'Simplesmente fantástico 💚 https://t.co/hRCutQ04pZ',\n",
       " '@OFuraRedes Tem só 23 anos, o corona demorou a ser o jogador que é no porto, tal como otavio, pedrinho tem um pé esquerdo fantastico e uma facilidade de jogar por dentro, por isso acredito que n vá ser flop no benfica',\n",
       " 'Fantástico https://t.co/wVtvcQHFPP',\n",
       " 'Ding Dong, Hello Castelo Branco 😎🇵🇹🇪🇦👑\\nFantástico por do sol aqui nos céus de #castelobranco \\nBom feriado e bom fim de semana.\\n@MeliaHtlResorts @ray_ban\\n\\n#Legend #nevergiveup #behappyandsmile #lifestyle\\n#happyhour #meliacastelobranco #HLR #Portugal #WWEChampion https://t.co/wlXdoC8Dbk',\n",
       " '@homo_viator Parece fantástico!',\n",
       " \"Entendo que para muitos possa parecer dramático em parte pela banalização das AE's e do seu papel enquanto representantes dos estudantes mas isto é na realidade algo fantástico por isso deixem me estar num momento-mãe toda orgulhosa e feliz https://t.co/pnQpiSp6X6\",\n",
       " 'CDC deixou cair a recomendação de uso de máscara a pessoas já totalmente vacinadas. Fantástico! https://t.co/g1C8zt2lOO',\n",
       " 'É fantástico saber que temos alguém que nos apoia quando mais precisamos... fazia mais 5km 🙃 @ritshudson1']"
      ]
     },
     "execution_count": 7,
     "metadata": {},
     "output_type": "execute_result"
    }
   ],
   "source": [
    "[i._json[\"full_text\"] for i in data][:20]"
   ]
  },
  {
   "cell_type": "code",
   "execution_count": null,
   "metadata": {},
   "outputs": [],
   "source": []
  },
  {
   "cell_type": "code",
   "execution_count": null,
   "metadata": {},
   "outputs": [],
   "source": []
  },
  {
   "cell_type": "code",
   "execution_count": null,
   "metadata": {},
   "outputs": [],
   "source": []
  },
  {
   "cell_type": "code",
   "execution_count": 8,
   "metadata": {
    "execution": {
     "iopub.execute_input": "2021-05-14T07:57:28.102587Z",
     "iopub.status.busy": "2021-05-14T07:57:28.102587Z",
     "iopub.status.idle": "2021-05-14T07:57:28.105581Z",
     "shell.execute_reply": "2021-05-14T07:57:28.105581Z",
     "shell.execute_reply.started": "2021-05-14T07:57:28.102587Z"
    }
   },
   "outputs": [],
   "source": [
    "# The twitter API also allows to search for trending topics in specific locations. It uses a legacy identifier called WOEID. \n",
    "# This is the WOEID for Portugal\n",
    "woeid_pt = 23424925"
   ]
  },
  {
   "cell_type": "code",
   "execution_count": 9,
   "metadata": {
    "execution": {
     "iopub.execute_input": "2021-05-14T07:57:28.436455Z",
     "iopub.status.busy": "2021-05-14T07:57:28.436455Z",
     "iopub.status.idle": "2021-05-14T07:57:28.766951Z",
     "shell.execute_reply": "2021-05-14T07:57:28.764960Z",
     "shell.execute_reply.started": "2021-05-14T07:57:28.436455Z"
    }
   },
   "outputs": [],
   "source": [
    "trends = []\n",
    "for trend in api.trends_place(id = woeid_pt):\n",
    "    trends.append(trend)"
   ]
  },
  {
   "cell_type": "code",
   "execution_count": 10,
   "metadata": {
    "execution": {
     "iopub.execute_input": "2021-05-14T07:57:29.696199Z",
     "iopub.status.busy": "2021-05-14T07:57:29.696199Z",
     "iopub.status.idle": "2021-05-14T07:57:29.720137Z",
     "shell.execute_reply": "2021-05-14T07:57:29.719170Z",
     "shell.execute_reply.started": "2021-05-14T07:57:29.696199Z"
    }
   },
   "outputs": [
    {
     "data": {
      "text/plain": [
       "[('Lusa', 0),\n",
       " ('Maria Vieira', 0),\n",
       " ('Azevedo', 0),\n",
       " ('Almada', 0),\n",
       " ('jamor', 0),\n",
       " ('#Lisboa', 0),\n",
       " ('Irão', 0),\n",
       " ('Páscoa', 0),\n",
       " ('Devias', 0),\n",
       " ('podiam', 0),\n",
       " ('Portuguese', 10659),\n",
       " ('Shrek', 12254),\n",
       " ('médio oriente', 13992),\n",
       " ('Bianca', 17448),\n",
       " ('Daniela', 19706),\n",
       " ('Vanessa', 23592),\n",
       " ('#CanYaman', 28994),\n",
       " ('Simm', 31197),\n",
       " ('Paulo Gustavo', 33387),\n",
       " ('Lakers', 37560),\n",
       " ('Carolina', 51719),\n",
       " ('Salvador', 54667),\n",
       " ('Brexit', 66705),\n",
       " ('Tony', 84336),\n",
       " ('Mary', 86050),\n",
       " ('António', 100166),\n",
       " ('Xbox', 101863),\n",
       " ('Estados', 108363),\n",
       " ('Luís', 124664),\n",
       " ('Paris', 130142),\n",
       " ('Corinthians', 142494),\n",
       " ('Musk', 185713),\n",
       " ('Drake', 191899),\n",
       " ('olivia', 207900),\n",
       " ('#dogecoin', 212288),\n",
       " ('Liverpool', 245684),\n",
       " ('J Cole', 252647),\n",
       " ('Palestina', 274213),\n",
       " ('Bitcoin', 576943),\n",
       " ('Spotify', 645580),\n",
       " ('Pfizer', 669594),\n",
       " ('I LOVE YOU', 676485),\n",
       " ('Biden', 710575),\n",
       " ('Trump', 730247),\n",
       " ('Hamas', 824565),\n",
       " ('Nicki', 838970),\n",
       " ('#FreePalestine', 1078732),\n",
       " ('Gaza', 2675353),\n",
       " ('Israel', 3479427),\n",
       " ('#BBMAsTopSocial', 4486841)]"
      ]
     },
     "execution_count": 10,
     "metadata": {},
     "output_type": "execute_result"
    }
   ],
   "source": [
    "sorted([(i[\"name\"], i[\"tweet_volume\"]) if i[\"tweet_volume\"] else (i[\"name\"], 0) for i in trends[0][\"trends\"]], key = lambda x: x[1])\n"
   ]
  },
  {
   "cell_type": "code",
   "execution_count": null,
   "metadata": {},
   "outputs": [],
   "source": []
  },
  {
   "cell_type": "code",
   "execution_count": null,
   "metadata": {},
   "outputs": [],
   "source": []
  },
  {
   "cell_type": "code",
   "execution_count": null,
   "metadata": {},
   "outputs": [],
   "source": []
  },
  {
   "cell_type": "code",
   "execution_count": null,
   "metadata": {},
   "outputs": [],
   "source": []
  }
 ],
 "metadata": {
  "kernelspec": {
   "display_name": "Python 3",
   "language": "python",
   "name": "python3"
  },
  "language_info": {
   "codemirror_mode": {
    "name": "ipython",
    "version": 3
   },
   "file_extension": ".py",
   "mimetype": "text/x-python",
   "name": "python",
   "nbconvert_exporter": "python",
   "pygments_lexer": "ipython3",
   "version": "3.8.3"
  }
 },
 "nbformat": 4,
 "nbformat_minor": 4
}
