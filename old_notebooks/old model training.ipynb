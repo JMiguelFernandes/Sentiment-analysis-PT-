{
 "cells": [
  {
   "cell_type": "code",
   "execution_count": 2,
   "metadata": {
    "tags": []
   },
   "outputs": [],
   "source": [
    "import pandas as pd\n",
    "import numpy as np\n",
    "import pickle\n",
    "from matplotlib import pyplot as plt\n",
    "\n",
    "from sklearn.feature_extraction.text import CountVectorizer\n",
    "import data_cleaning_functions as dcf\n",
    "\n",
    "from sklearn.model_selection import train_test_split, KFold, StratifiedKFold\n",
    "from sklearn.naive_bayes import MultinomialNB, BernoulliNB\n",
    "from sklearn.tree import DecisionTreeClassifier\n",
    "from sklearn.linear_model import LogisticRegression\n",
    "from sklearn.metrics import accuracy_score, confusion_matrix, auc, roc_curve, plot_roc_curve\n"
   ]
  },
  {
   "cell_type": "markdown",
   "metadata": {},
   "source": [
    "# Importing the data"
   ]
  },
  {
   "cell_type": "code",
   "execution_count": 3,
   "metadata": {
    "tags": []
   },
   "outputs": [
    {
     "data": {
      "text/html": [
       "<div>\n",
       "<style scoped>\n",
       "    .dataframe tbody tr th:only-of-type {\n",
       "        vertical-align: middle;\n",
       "    }\n",
       "\n",
       "    .dataframe tbody tr th {\n",
       "        vertical-align: top;\n",
       "    }\n",
       "\n",
       "    .dataframe thead th {\n",
       "        text-align: right;\n",
       "    }\n",
       "</style>\n",
       "<table border=\"1\" class=\"dataframe\">\n",
       "  <thead>\n",
       "    <tr style=\"text-align: right;\">\n",
       "      <th></th>\n",
       "      <th>id</th>\n",
       "      <th>created_at</th>\n",
       "      <th>tweet</th>\n",
       "      <th>keyword</th>\n",
       "      <th>target</th>\n",
       "      <th>clean_tweet</th>\n",
       "    </tr>\n",
       "  </thead>\n",
       "  <tbody>\n",
       "    <tr>\n",
       "      <th>0</th>\n",
       "      <td>1396047477695029249</td>\n",
       "      <td>2021-05-22 10:17:10+00:00</td>\n",
       "      <td>Tava tão feliz c o apartamento mas acho q é golpe</td>\n",
       "      <td>feliz</td>\n",
       "      <td>positive</td>\n",
       "      <td>tav tao apart ach golp</td>\n",
       "    </tr>\n",
       "    <tr>\n",
       "      <th>1</th>\n",
       "      <td>1396047411047542785</td>\n",
       "      <td>2021-05-22 10:16:54+00:00</td>\n",
       "      <td>@rita_castro1 Bom dia Sweetie!! Sábado feliz!!...</td>\n",
       "      <td>feliz</td>\n",
       "      <td>positive</td>\n",
       "      <td>bom dia sweti ! sab ! ☕</td>\n",
       "    </tr>\n",
       "    <tr>\n",
       "      <th>2</th>\n",
       "      <td>1396047195921604611</td>\n",
       "      <td>2021-05-22 10:16:03+00:00</td>\n",
       "      <td>Bom dia e um feliz sábado a todos ✌🏼💜🍀. 😘😘 htt...</td>\n",
       "      <td>feliz</td>\n",
       "      <td>positive</td>\n",
       "      <td>bom dia sab tod ✌</td>\n",
       "    </tr>\n",
       "    <tr>\n",
       "      <th>3</th>\n",
       "      <td>1396046918153904128</td>\n",
       "      <td>2021-05-22 10:14:57+00:00</td>\n",
       "      <td>Eu estou tão feliz pela Hande ela merece tudo !</td>\n",
       "      <td>feliz</td>\n",
       "      <td>positive</td>\n",
       "      <td>tao hand merec tud !</td>\n",
       "    </tr>\n",
       "    <tr>\n",
       "      <th>4</th>\n",
       "      <td>1396045926016368642</td>\n",
       "      <td>2021-05-22 10:11:00+00:00</td>\n",
       "      <td>Estou tao feliz finalmente em Castelo Branco c...</td>\n",
       "      <td>feliz</td>\n",
       "      <td>positive</td>\n",
       "      <td>tao final castel branc xuxu</td>\n",
       "    </tr>\n",
       "    <tr>\n",
       "      <th>...</th>\n",
       "      <td>...</td>\n",
       "      <td>...</td>\n",
       "      <td>...</td>\n",
       "      <td>...</td>\n",
       "      <td>...</td>\n",
       "      <td>...</td>\n",
       "    </tr>\n",
       "    <tr>\n",
       "      <th>23327</th>\n",
       "      <td>1397872771640827908</td>\n",
       "      <td>2021-05-27 11:10:14+00:00</td>\n",
       "      <td>Eu: detesto musicais 🤮🤮🤮🤮\\n\\nAlso eu a dois mi...</td>\n",
       "      <td>detesto OR detestei</td>\n",
       "      <td>negative</td>\n",
       "      <td>music als doi minut episodi music anatom grey ...</td>\n",
       "    </tr>\n",
       "    <tr>\n",
       "      <th>23328</th>\n",
       "      <td>1397867369276579840</td>\n",
       "      <td>2021-05-27 10:48:46+00:00</td>\n",
       "      <td>Detesto está situação poha</td>\n",
       "      <td>detesto OR detestei</td>\n",
       "      <td>negative</td>\n",
       "      <td>situ poh</td>\n",
       "    </tr>\n",
       "    <tr>\n",
       "      <th>23329</th>\n",
       "      <td>1397839222883688449</td>\n",
       "      <td>2021-05-27 08:56:55+00:00</td>\n",
       "      <td>Que linda noite de sono ao sonhar com a pessoa...</td>\n",
       "      <td>detesto OR detestei</td>\n",
       "      <td>negative</td>\n",
       "      <td>lind noit son sonh pesso conhec faculdad ent ta</td>\n",
       "    </tr>\n",
       "    <tr>\n",
       "      <th>23330</th>\n",
       "      <td>1397833381099061248</td>\n",
       "      <td>2021-05-27 08:33:43+00:00</td>\n",
       "      <td>@Joaohpr Também detesto e evito sempre que exi...</td>\n",
       "      <td>detesto OR detestei</td>\n",
       "      <td>negative</td>\n",
       "      <td>evit sempr exist altern fac tap ryana ra tem…</td>\n",
       "    </tr>\n",
       "    <tr>\n",
       "      <th>23331</th>\n",
       "      <td>1397823272058855425</td>\n",
       "      <td>2021-05-27 07:53:33+00:00</td>\n",
       "      <td>Eu adoro roupa, adoro moda.. Mas trabalhar num...</td>\n",
       "      <td>detesto OR detestei</td>\n",
       "      <td>negative</td>\n",
       "      <td>ador roup ador mod trabalh loj roup lid pesso ...</td>\n",
       "    </tr>\n",
       "  </tbody>\n",
       "</table>\n",
       "<p>22842 rows × 6 columns</p>\n",
       "</div>"
      ],
      "text/plain": [
       "                        id                 created_at  \\\n",
       "0      1396047477695029249  2021-05-22 10:17:10+00:00   \n",
       "1      1396047411047542785  2021-05-22 10:16:54+00:00   \n",
       "2      1396047195921604611  2021-05-22 10:16:03+00:00   \n",
       "3      1396046918153904128  2021-05-22 10:14:57+00:00   \n",
       "4      1396045926016368642  2021-05-22 10:11:00+00:00   \n",
       "...                    ...                        ...   \n",
       "23327  1397872771640827908  2021-05-27 11:10:14+00:00   \n",
       "23328  1397867369276579840  2021-05-27 10:48:46+00:00   \n",
       "23329  1397839222883688449  2021-05-27 08:56:55+00:00   \n",
       "23330  1397833381099061248  2021-05-27 08:33:43+00:00   \n",
       "23331  1397823272058855425  2021-05-27 07:53:33+00:00   \n",
       "\n",
       "                                                   tweet              keyword  \\\n",
       "0      Tava tão feliz c o apartamento mas acho q é golpe                feliz   \n",
       "1      @rita_castro1 Bom dia Sweetie!! Sábado feliz!!...                feliz   \n",
       "2      Bom dia e um feliz sábado a todos ✌🏼💜🍀. 😘😘 htt...                feliz   \n",
       "3        Eu estou tão feliz pela Hande ela merece tudo !                feliz   \n",
       "4      Estou tao feliz finalmente em Castelo Branco c...                feliz   \n",
       "...                                                  ...                  ...   \n",
       "23327  Eu: detesto musicais 🤮🤮🤮🤮\\n\\nAlso eu a dois mi...  detesto OR detestei   \n",
       "23328                         Detesto está situação poha  detesto OR detestei   \n",
       "23329  Que linda noite de sono ao sonhar com a pessoa...  detesto OR detestei   \n",
       "23330  @Joaohpr Também detesto e evito sempre que exi...  detesto OR detestei   \n",
       "23331  Eu adoro roupa, adoro moda.. Mas trabalhar num...  detesto OR detestei   \n",
       "\n",
       "         target                                        clean_tweet  \n",
       "0      positive                             tav tao apart ach golp  \n",
       "1      positive                            bom dia sweti ! sab ! ☕  \n",
       "2      positive                                  bom dia sab tod ✌  \n",
       "3      positive                               tao hand merec tud !  \n",
       "4      positive                        tao final castel branc xuxu  \n",
       "...         ...                                                ...  \n",
       "23327  negative  music als doi minut episodi music anatom grey ...  \n",
       "23328  negative                                           situ poh  \n",
       "23329  negative    lind noit son sonh pesso conhec faculdad ent ta  \n",
       "23330  negative      evit sempr exist altern fac tap ryana ra tem…  \n",
       "23331  negative  ador roup ador mod trabalh loj roup lid pesso ...  \n",
       "\n",
       "[22842 rows x 6 columns]"
      ]
     },
     "execution_count": 3,
     "metadata": {},
     "output_type": "execute_result"
    }
   ],
   "source": [
    "infile = open(\"data/df\", \"rb\")\n",
    "df = pickle.load(infile)\n",
    "infile.close()\n",
    "df"
   ]
  },
  {
   "cell_type": "code",
   "execution_count": 4,
   "metadata": {
    "tags": []
   },
   "outputs": [
    {
     "data": {
      "text/plain": [
       "CountVectorizer()"
      ]
     },
     "execution_count": 4,
     "metadata": {},
     "output_type": "execute_result"
    }
   ],
   "source": [
    "infile = open(\"data/vectorizer\", \"rb\")\n",
    "vectorizer = pickle.load(infile)\n",
    "infile.close()\n",
    "vectorizer"
   ]
  },
  {
   "cell_type": "code",
   "execution_count": 5,
   "metadata": {
    "tags": []
   },
   "outputs": [
    {
     "data": {
      "text/plain": [
       "['ab',\n",
       " 'abac',\n",
       " 'abacat',\n",
       " 'abacax',\n",
       " 'abaf',\n",
       " 'abaix',\n",
       " 'abal',\n",
       " 'aban',\n",
       " 'abandon',\n",
       " 'abat']"
      ]
     },
     "execution_count": 5,
     "metadata": {},
     "output_type": "execute_result"
    }
   ],
   "source": [
    "vocabulary = vectorizer.get_feature_names()\n",
    "vocabulary[0:10]"
   ]
  },
  {
   "cell_type": "code",
   "execution_count": 6,
   "metadata": {
    "tags": []
   },
   "outputs": [
    {
     "data": {
      "text/plain": [
       "<22842x12569 sparse matrix of type '<class 'numpy.int64'>'\n",
       "\twith 150810 stored elements in Compressed Sparse Row format>"
      ]
     },
     "execution_count": 6,
     "metadata": {},
     "output_type": "execute_result"
    }
   ],
   "source": [
    "infile = open(\"data/doc_term_matrix\", \"rb\")\n",
    "doc_term_matrix = pickle.load(infile)\n",
    "infile.close()\n",
    "doc_term_matrix"
   ]
  },
  {
   "cell_type": "code",
   "execution_count": 7,
   "metadata": {
    "tags": []
   },
   "outputs": [
    {
     "data": {
      "text/html": [
       "<div>\n",
       "<style scoped>\n",
       "    .dataframe tbody tr th:only-of-type {\n",
       "        vertical-align: middle;\n",
       "    }\n",
       "\n",
       "    .dataframe tbody tr th {\n",
       "        vertical-align: top;\n",
       "    }\n",
       "\n",
       "    .dataframe thead th {\n",
       "        text-align: right;\n",
       "    }\n",
       "</style>\n",
       "<table border=\"1\" class=\"dataframe\">\n",
       "  <thead>\n",
       "    <tr style=\"text-align: right;\">\n",
       "      <th>target_value</th>\n",
       "      <th>0</th>\n",
       "      <th>1</th>\n",
       "    </tr>\n",
       "  </thead>\n",
       "  <tbody>\n",
       "    <tr>\n",
       "      <th>ab</th>\n",
       "      <td>2</td>\n",
       "      <td>3</td>\n",
       "    </tr>\n",
       "    <tr>\n",
       "      <th>abac</th>\n",
       "      <td>0</td>\n",
       "      <td>1</td>\n",
       "    </tr>\n",
       "    <tr>\n",
       "      <th>abacat</th>\n",
       "      <td>1</td>\n",
       "      <td>2</td>\n",
       "    </tr>\n",
       "    <tr>\n",
       "      <th>abacax</th>\n",
       "      <td>0</td>\n",
       "      <td>1</td>\n",
       "    </tr>\n",
       "    <tr>\n",
       "      <th>abaf</th>\n",
       "      <td>2</td>\n",
       "      <td>1</td>\n",
       "    </tr>\n",
       "    <tr>\n",
       "      <th>...</th>\n",
       "      <td>...</td>\n",
       "      <td>...</td>\n",
       "    </tr>\n",
       "    <tr>\n",
       "      <th>ℂℙ</th>\n",
       "      <td>0</td>\n",
       "      <td>1</td>\n",
       "    </tr>\n",
       "    <tr>\n",
       "      <th>ℕℂℕ</th>\n",
       "      <td>0</td>\n",
       "      <td>1</td>\n",
       "    </tr>\n",
       "    <tr>\n",
       "      <th>ℙℝ</th>\n",
       "      <td>0</td>\n",
       "      <td>1</td>\n",
       "    </tr>\n",
       "    <tr>\n",
       "      <th>스트레이키즈</th>\n",
       "      <td>0</td>\n",
       "      <td>1</td>\n",
       "    </tr>\n",
       "    <tr>\n",
       "      <th>제이크</th>\n",
       "      <td>0</td>\n",
       "      <td>1</td>\n",
       "    </tr>\n",
       "  </tbody>\n",
       "</table>\n",
       "<p>12569 rows × 2 columns</p>\n",
       "</div>"
      ],
      "text/plain": [
       "target_value  0  1\n",
       "ab            2  3\n",
       "abac          0  1\n",
       "abacat        1  2\n",
       "abacax        0  1\n",
       "abaf          2  1\n",
       "...          .. ..\n",
       "ℂℙ            0  1\n",
       "ℕℂℕ           0  1\n",
       "ℙℝ            0  1\n",
       "스트레이키즈        0  1\n",
       "제이크           0  1\n",
       "\n",
       "[12569 rows x 2 columns]"
      ]
     },
     "execution_count": 7,
     "metadata": {},
     "output_type": "execute_result"
    }
   ],
   "source": [
    "infile = open(\"data/pivoted_dcm\", \"rb\")\n",
    "pivoted_dtm = pickle.load(infile)\n",
    "infile.close()\n",
    "pivoted_dtm"
   ]
  },
  {
   "cell_type": "code",
   "execution_count": null,
   "metadata": {},
   "outputs": [],
   "source": []
  },
  {
   "cell_type": "code",
   "execution_count": null,
   "metadata": {},
   "outputs": [],
   "source": []
  },
  {
   "cell_type": "code",
   "execution_count": null,
   "metadata": {},
   "outputs": [],
   "source": []
  },
  {
   "cell_type": "markdown",
   "metadata": {},
   "source": [
    "# Trying out multinomial Naive Bayes model (with stratified k-fold cross-validation)"
   ]
  },
  {
   "cell_type": "code",
   "execution_count": 8,
   "metadata": {
    "tags": []
   },
   "outputs": [
    {
     "name": "stdout",
     "output_type": "stream",
     "text": [
      "accuracy of each fold - [0.687964989059081, 0.7129102844638949, 0.7408056042031523, 0.7285464098073555, 0.7530647985989493, 0.7005253940455342, 0.7014010507880911, 0.7574430823117339, 0.6795096322241682, 0.7049036777583187]\n",
      "Avg accuracy : 0.7167074923260279\n"
     ]
    }
   ],
   "source": [
    "X = doc_term_matrix\n",
    "y = np.where(df[\"target\"]==\"positive\", 1, 0)\n",
    "\n",
    "k=10\n",
    "skf = StratifiedKFold(n_splits=k, random_state=None)\n",
    "model_multinomialNB = MultinomialNB()\n",
    " \n",
    "acc_score = []\n",
    " \n",
    "for train_index , test_index in skf.split(X, y):\n",
    "    X_train, X_test = X[train_index,:], X[test_index,:]\n",
    "    y_train, y_test = y[train_index], y[test_index]\n",
    "     \n",
    "    model_multinomialNB.fit(X_train, y_train)\n",
    "    pred_values = model_multinomialNB.predict(X_test)\n",
    "     \n",
    "    acc = accuracy_score(pred_values, y_test)\n",
    "    acc_score.append(acc)\n",
    "     \n",
    "avg_acc_score = sum(acc_score)/k\n",
    " \n",
    "print('accuracy of each fold - {}'.format(acc_score))\n",
    "print('Avg accuracy : {}'.format(avg_acc_score))\n"
   ]
  },
  {
   "cell_type": "markdown",
   "metadata": {},
   "source": [
    "# Trying out Bernoulli Naive Bayes model (with stratified k-fold cross-validation)"
   ]
  },
  {
   "cell_type": "code",
   "execution_count": 9,
   "metadata": {
    "tags": []
   },
   "outputs": [
    {
     "name": "stdout",
     "output_type": "stream",
     "text": [
      "accuracy of each fold - [0.6787746170678337, 0.6932166301969366, 0.7259194395796847, 0.707968476357268, 0.7478108581436077, 0.6970227670753065, 0.6786339754816112, 0.7294220665499125, 0.6357267950963222, 0.6847635726795096]\n",
      "Avg accuracy : 0.6979259198227993\n"
     ]
    }
   ],
   "source": [
    "X = doc_term_matrix\n",
    "y = np.where(df[\"target\"]==\"positive\", 1, 0)\n",
    "\n",
    "k=10\n",
    "skf = StratifiedKFold(n_splits=k, random_state=None)\n",
    "model_bernoulliNB = BernoulliNB(binarize = 0.1)\n",
    " \n",
    "acc_score = []\n",
    " \n",
    "for train_index , test_index in skf.split(X, y):\n",
    "    X_train , X_test = X[train_index,:],X[test_index,:]\n",
    "    y_train , y_test = y[train_index] , y[test_index]\n",
    "     \n",
    "    model_bernoulliNB.fit(X_train,y_train)\n",
    "    pred_values = model_bernoulliNB.predict(X_test)\n",
    "     \n",
    "    acc = accuracy_score(pred_values , y_test)\n",
    "    acc_score.append(acc)\n",
    "     \n",
    "avg_acc_score = sum(acc_score)/k\n",
    " \n",
    "print('accuracy of each fold - {}'.format(acc_score))\n",
    "print('Avg accuracy : {}'.format(avg_acc_score))\n"
   ]
  },
  {
   "cell_type": "markdown",
   "metadata": {},
   "source": [
    "# Trying out logistic regression (with stratified k-fold cross-validation)"
   ]
  },
  {
   "cell_type": "code",
   "execution_count": 10,
   "metadata": {
    "tags": []
   },
   "outputs": [
    {
     "name": "stdout",
     "output_type": "stream",
     "text": [
      "accuracy of each fold - [0.687527352297593, 0.7107221006564551, 0.7320490367775832, 0.7552539404553416, 0.7556917688266199, 0.7114711033274956, 0.7167250437828371, 0.7609457092819615, 0.7057793345008757, 0.7084063047285464]\n",
      "Avg accuracy : 0.7244571694635309\n"
     ]
    }
   ],
   "source": [
    "X = doc_term_matrix\n",
    "y = np.where(df[\"target\"]==\"positive\", 1, 0)\n",
    "\n",
    "k=10\n",
    "skf = StratifiedKFold(n_splits=k, random_state=None)\n",
    "model_logistic = LogisticRegression(max_iter=500)\n",
    " \n",
    "acc_score = []\n",
    " \n",
    "for train_index, test_index in skf.split(X, y):\n",
    "    X_train, X_test = X[train_index,:], X[test_index,:]\n",
    "    y_train, y_test = y[train_index], y[test_index]\n",
    "     \n",
    "    model_logistic.fit(X_train, y_train)\n",
    "    pred_values = model_logistic.predict(X_test)\n",
    "     \n",
    "    acc = accuracy_score(pred_values, y_test)\n",
    "    acc_score.append(acc)\n",
    "     \n",
    "avg_acc_score = sum(acc_score)/k\n",
    " \n",
    "print('accuracy of each fold - {}'.format(acc_score))\n",
    "print('Avg accuracy : {}'.format(avg_acc_score))"
   ]
  },
  {
   "cell_type": "code",
   "execution_count": null,
   "metadata": {},
   "outputs": [],
   "source": []
  },
  {
   "cell_type": "code",
   "execution_count": 11,
   "metadata": {
    "tags": []
   },
   "outputs": [
    {
     "data": {
      "image/png": "[encoded data removed]",
      "text/plain": [
       "<Figure size 432x288 with 1 Axes>"
      ]
     },
     "metadata": {
      "needs_background": "light"
     },
     "output_type": "display_data"
    }
   ],
   "source": [
    "cv = StratifiedKFold(n_splits=10)\n",
    "classifier = MultinomialNB()\n",
    "\n",
    "tprs = []\n",
    "aucs = []\n",
    "mean_fpr = np.linspace(0, 1, 100)\n",
    "\n",
    "fig, ax = plt.subplots()\n",
    "for i, (train, test) in enumerate(cv.split(X, y)):\n",
    "    classifier.fit(X[train], y[train])\n",
    "    viz = plot_roc_curve(classifier, X[test], y[test],\n",
    "                         name='ROC fold {}'.format(i),\n",
    "                         alpha=0.3, lw=1, ax=ax)\n",
    "    interp_tpr = np.interp(mean_fpr, viz.fpr, viz.tpr)\n",
    "    interp_tpr[0] = 0.0\n",
    "    tprs.append(interp_tpr)\n",
    "    aucs.append(viz.roc_auc)\n",
    "\n",
    "ax.plot([0, 1], [0, 1], linestyle='--', lw=2, color='r',\n",
    "        label='Chance', alpha=.8)\n",
    "\n",
    "mean_tpr = np.mean(tprs, axis=0)\n",
    "mean_tpr[-1] = 1.0\n",
    "mean_auc = auc(mean_fpr, mean_tpr)\n",
    "std_auc = np.std(aucs)\n",
    "ax.plot(mean_fpr, mean_tpr, color='b',\n",
    "        label=r'Mean ROC (AUC=%0.2f$\\pm$%0.2f)' % (mean_auc, std_auc),\n",
    "        lw=2, alpha=.8)\n",
    "\n",
    "std_tpr = np.std(tprs, axis=0)\n",
    "tprs_upper = np.minimum(mean_tpr + std_tpr, 1)\n",
    "tprs_lower = np.maximum(mean_tpr - std_tpr, 0)\n",
    "ax.fill_between(mean_fpr, tprs_lower, tprs_upper, color='grey', alpha=.2,\n",
    "                label=r'$\\pm$ 1 std. dev.')\n",
    "\n",
    "ax.set(xlim=[-0.05, 1.05], ylim=[-0.05, 1.05],\n",
    "       title=\"ROC Multinomial Naive Bayes\")\n",
    "ax.legend(loc=\"lower right\", fontsize = 'x-small')\n",
    "plt.show()"
   ]
  },
  {
   "cell_type": "code",
   "execution_count": 12,
   "metadata": {
    "tags": []
   },
   "outputs": [
    {
     "data": {
      "image/png": "[encoded data removed]",
      "text/plain": [
       "<Figure size 432x288 with 1 Axes>"
      ]
     },
     "metadata": {
      "needs_background": "light"
     },
     "output_type": "display_data"
    }
   ],
   "source": [
    "cv = StratifiedKFold(n_splits=10)\n",
    "classifier = BernoulliNB()\n",
    "\n",
    "tprs = []\n",
    "aucs = []\n",
    "mean_fpr = np.linspace(0, 1, 100)\n",
    "\n",
    "fig, ax = plt.subplots()\n",
    "for i, (train, test) in enumerate(cv.split(X, y)):\n",
    "    classifier.fit(X[train], y[train])\n",
    "    viz = plot_roc_curve(classifier, X[test], y[test],\n",
    "                         name='ROC fold {}'.format(i),\n",
    "                         alpha=0.3, lw=1, ax=ax)\n",
    "    interp_tpr = np.interp(mean_fpr, viz.fpr, viz.tpr)\n",
    "    interp_tpr[0] = 0.0\n",
    "    tprs.append(interp_tpr)\n",
    "    aucs.append(viz.roc_auc)\n",
    "\n",
    "ax.plot([0, 1], [0, 1], linestyle='--', lw=2, color='r',\n",
    "        label='Chance', alpha=.8)\n",
    "\n",
    "mean_tpr = np.mean(tprs, axis=0)\n",
    "mean_tpr[-1] = 1.0\n",
    "mean_auc = auc(mean_fpr, mean_tpr)\n",
    "std_auc = np.std(aucs)\n",
    "ax.plot(mean_fpr, mean_tpr, color='b',\n",
    "        label=r'Mean ROC (AUC=%0.2f$\\pm$%0.2f)' % (mean_auc, std_auc),\n",
    "        lw=2, alpha=.8)\n",
    "\n",
    "std_tpr = np.std(tprs, axis=0)\n",
    "tprs_upper = np.minimum(mean_tpr + std_tpr, 1)\n",
    "tprs_lower = np.maximum(mean_tpr - std_tpr, 0)\n",
    "ax.fill_between(mean_fpr, tprs_lower, tprs_upper, color='grey', alpha=.2,\n",
    "                label=r'$\\pm$ 1 std. dev.')\n",
    "\n",
    "ax.set(xlim=[-0.05, 1.05], ylim=[-0.05, 1.05],\n",
    "       title=\"ROC Multinomial Naive Bayes\")\n",
    "ax.legend(loc=\"lower right\", fontsize = 'x-small')\n",
    "plt.show()"
   ]
  },
  {
   "cell_type": "code",
   "execution_count": 13,
   "metadata": {
    "tags": []
   },
   "outputs": [
    {
     "data": {
      "image/png": "[encoded data removed]",
      "text/plain": [
       "<Figure size 432x288 with 1 Axes>"
      ]
     },
     "metadata": {
      "needs_background": "light"
     },
     "output_type": "display_data"
    }
   ],
   "source": [
    "cv = StratifiedKFold(n_splits=10)\n",
    "classifier = LogisticRegression(max_iter=500)\n",
    "\n",
    "tprs = []\n",
    "aucs = []\n",
    "mean_fpr = np.linspace(0, 1, 100)\n",
    "\n",
    "fig, ax = plt.subplots()\n",
    "for i, (train, test) in enumerate(cv.split(X, y)):\n",
    "    classifier.fit(X[train], y[train])\n",
    "    viz = plot_roc_curve(classifier, X[test], y[test],\n",
    "                         name='ROC fold {}'.format(i),\n",
    "                         alpha=0.3, lw=1, ax=ax)\n",
    "    interp_tpr = np.interp(mean_fpr, viz.fpr, viz.tpr)\n",
    "    interp_tpr[0] = 0.0\n",
    "    tprs.append(interp_tpr)\n",
    "    aucs.append(viz.roc_auc)\n",
    "\n",
    "ax.plot([0, 1], [0, 1], linestyle='--', lw=2, color='r',\n",
    "        label='Chance', alpha=.8)\n",
    "\n",
    "mean_tpr = np.mean(tprs, axis=0)\n",
    "mean_tpr[-1] = 1.0\n",
    "mean_auc = auc(mean_fpr, mean_tpr)\n",
    "std_auc = np.std(aucs)\n",
    "ax.plot(mean_fpr, mean_tpr, color='b',\n",
    "        label=r'Mean ROC (AUC=%0.2f$\\pm$%0.2f)' % (mean_auc, std_auc),\n",
    "        lw=2, alpha=.8)\n",
    "\n",
    "std_tpr = np.std(tprs, axis=0)\n",
    "tprs_upper = np.minimum(mean_tpr + std_tpr, 1)\n",
    "tprs_lower = np.maximum(mean_tpr - std_tpr, 0)\n",
    "ax.fill_between(mean_fpr, tprs_lower, tprs_upper, color='grey', alpha=.2,\n",
    "                label=r'$\\pm$ 1 std. dev.')\n",
    "\n",
    "ax.set(xlim=[-0.05, 1.05], ylim=[-0.05, 1.05],\n",
    "       title=\"ROC Multinomial Naive Bayes\")\n",
    "ax.legend(loc=\"lower right\", fontsize = 'x-small')\n",
    "plt.show()"
   ]
  },
  {
   "cell_type": "code",
   "execution_count": 14,
   "metadata": {
    "tags": []
   },
   "outputs": [
    {
     "data": {
      "image/png": "[encoded data removed]",
      "text/plain": [
       "<Figure size 432x288 with 1 Axes>"
      ]
     },
     "metadata": {
      "needs_background": "light"
     },
     "output_type": "display_data"
    },
    {
     "data": {
      "image/png": "[encoded data removed]",
      "text/plain": [
       "<Figure size 432x288 with 1 Axes>"
      ]
     },
     "metadata": {
      "needs_background": "light"
     },
     "output_type": "display_data"
    },
    {
     "data": {
      "image/png": "[encoded data removed]",
      "text/plain": [
       "<Figure size 432x288 with 1 Axes>"
      ]
     },
     "metadata": {
      "needs_background": "light"
     },
     "output_type": "display_data"
    }
   ],
   "source": [
    "viz_multinomialNB = plot_roc_curve(model_multinomialNB, X_test, y_test)\n",
    "viz_bernoulliNB = plot_roc_curve(model_bernoulliNB, X_test, y_test)\n",
    "viz_logistic = plot_roc_curve(model_logistic, X_test, y_test)"
   ]
  },
  {
   "cell_type": "code",
   "execution_count": 15,
   "metadata": {
    "tags": []
   },
   "outputs": [
    {
     "data": {
      "text/plain": [
       "[Text(0.5, 1.0, 'ROC')]"
      ]
     },
     "execution_count": 15,
     "metadata": {},
     "output_type": "execute_result"
    },
    {
     "data": {
      "image/png": "[encoded data removed]",
      "text/plain": [
       "<Figure size 432x288 with 1 Axes>"
      ]
     },
     "metadata": {
      "needs_background": "light"
     },
     "output_type": "display_data"
    }
   ],
   "source": [
    "ax = plt.axes()\n",
    "ax.plot(viz_multinomialNB.fpr, viz_multinomialNB.tpr, label = \"multinomial NB\")\n",
    "ax.plot(viz_bernoulliNB.fpr, viz_bernoulliNB.tpr, label = \"bernoulli NB\")\n",
    "ax.plot(viz_logistic.fpr, viz_logistic.tpr, label = \"logistic\")\n",
    "ax.legend(loc = \"right\")\n",
    "ax.set(title=\"ROC\")"
   ]
  },
  {
   "cell_type": "code",
   "execution_count": 16,
   "metadata": {
    "tags": []
   },
   "outputs": [
    {
     "data": {
      "text/plain": [
       "array([1, 1, 1, ..., 0, 0, 0])"
      ]
     },
     "execution_count": 16,
     "metadata": {},
     "output_type": "execute_result"
    }
   ],
   "source": [
    "y_test"
   ]
  },
  {
   "cell_type": "code",
   "execution_count": null,
   "metadata": {},
   "outputs": [],
   "source": []
  },
  {
   "cell_type": "code",
   "execution_count": null,
   "metadata": {},
   "outputs": [],
   "source": []
  },
  {
   "cell_type": "code",
   "execution_count": null,
   "metadata": {},
   "outputs": [],
   "source": []
  },
  {
   "cell_type": "code",
   "execution_count": null,
   "metadata": {},
   "outputs": [],
   "source": []
  },
  {
   "cell_type": "code",
   "execution_count": 17,
   "metadata": {
    "tags": []
   },
   "outputs": [],
   "source": [
    "test_example = \"Adoro o último livro da saga do senhor dos anéis. Melhor livro do ano!\"\n",
    "test_example_2 = \"Odiei o último livro da saga do senhor dos anéis. Pior livro do ano!\"\n",
    "test_example_3 = \"Este filme foi tão aborrecified\""
   ]
  },
  {
   "cell_type": "code",
   "execution_count": 18,
   "metadata": {
    "tags": []
   },
   "outputs": [],
   "source": [
    "model = model_multinomialNB"
   ]
  },
  {
   "cell_type": "code",
   "execution_count": 19,
   "metadata": {
    "tags": []
   },
   "outputs": [
    {
     "name": "stdout",
     "output_type": "stream",
     "text": [
      "   ador  anel  ano  do  livr  melhor  sag  senh  ult\n",
      "0     1     1    1   3     2       1    1     1    1\n",
      "Model predicts negative sentiment\n",
      "Probability of negative sentiment: 0.7982700297273805\n",
      "Probability of positive sentiment: 0.2017299702726323\n",
      "   anel  ano  do  livr  odi  pi  sag  senh  ult\n",
      "0     1    1   3     2    1   1    1     1    1\n",
      "Model predicts negative sentiment\n",
      "Probability of negative sentiment: 0.8102862317491727\n",
      "Probability of positive sentiment: 0.1897137682508299\n",
      "   est  film  tao\n",
      "0    1     1    1\n",
      "Model predicts negative sentiment\n",
      "Probability of negative sentiment: 0.8724787852344837\n",
      "Probability of positive sentiment: 0.12752121476552034\n"
     ]
    }
   ],
   "source": [
    "def predict_polarity(text, vocabulary, fitted_model):\n",
    "    text = \" \".join([i for i in dcf.clean_up_tweets(text).split() if i in vocabulary])\n",
    "    \n",
    "    vectorizer = CountVectorizer()\n",
    "    \n",
    "    tokenized_text = pd.DataFrame(vectorizer.fit_transform([text]).toarray(), columns=vectorizer.get_feature_names())\n",
    "    print(tokenized_text)\n",
    "    \n",
    "    prediction = fitted_model.predict([[1 if i in text else 0 for i in vocabulary]])[0]\n",
    "    \n",
    "    if prediction == 0:\n",
    "        print(\"Model predicts negative sentiment\")\n",
    "    else:\n",
    "        print(\"Model predicts positive sentiment\")\n",
    "        \n",
    "    print(f\"Probability of negative sentiment: {fitted_model.predict_proba([[1 if i in text else 0 for i in vocabulary]])[0][0]}\")\n",
    "    print(f\"Probability of positive sentiment: {fitted_model.predict_proba([[1 if i in text else 0 for i in vocabulary]])[0][1]}\")\n",
    "    \n",
    "predict_polarity(test_example, vocabulary, model)\n",
    "predict_polarity(test_example_2, vocabulary, model)\n",
    "predict_polarity(test_example_3, vocabulary, model)"
   ]
  },
  {
   "cell_type": "markdown",
   "metadata": {},
   "source": [
    "Things to try:\n",
    "- stemming vs no stemming\n",
    "- removing words that are too long to be true - DONE\n",
    "- removing very short tweets\n",
    "- removing duplicate tweets (from different keywords)\n",
    "\n",
    "\n",
    "- gaussian and bernoulli - DONE \n",
    "    - bernoulli - performed slightly worse \n",
    "    - gaussian - performed slightly worse\n",
    "    - logistic regression - performed marginally better, but takes considerably longer (still viable, a few minutes)\n",
    "    - decision tree - performed slightly worse and took >15min\n",
    "- other models?\n",
    "- playing around with parameters/hyperparameter tuning\n",
    "- test several times with different train/test splits (cross validation) - DONE\n",
    "- think about balancing the training set? Try this once i have 10000 each, positive and negative\n",
    "- get reviews from some website with associated ratings, evaluate if the predicted sentiment correlates with ratings\n",
    "- check stopwords. Definitely remove nao\n",
    "- think about adding a third category to the predictor (neutral/mixed/unclear) based on the probabilities; if close to 0.5, this category would probably be better than positive/negative\n",
    "- implement the naive bayes model from scratch, to allow for the probabilities of each word to be visible (and maybe play around with a possible implementation of negation)"
   ]
  },
  {
   "cell_type": "code",
   "execution_count": null,
   "metadata": {},
   "outputs": [],
   "source": []
  },
  {
   "cell_type": "code",
   "execution_count": null,
   "metadata": {},
   "outputs": [],
   "source": []
  },
  {
   "cell_type": "code",
   "execution_count": null,
   "metadata": {},
   "outputs": [],
   "source": []
  },
  {
   "cell_type": "code",
   "execution_count": 20,
   "metadata": {
    "tags": []
   },
   "outputs": [
    {
     "name": "stdout",
     "output_type": "stream",
     "text": [
      "Number of positive tweets = 15786\n",
      "Number of negative tweets = 7056\n",
      "Total number of tweets = 22842\n",
      "p_positive = 0.6910953506698188\n",
      "p_negative = 0.30890464933018125\n"
     ]
    }
   ],
   "source": [
    "total_positive = df[\"target\"].value_counts()[\"positive\"]\n",
    "total_negative = df[\"target\"].value_counts()[\"negative\"]\n",
    "total_tweets = df[\"target\"].value_counts().sum()\n",
    "\n",
    "p_positive = total_positive / total_tweets\n",
    "p_negative = total_negative / total_tweets\n",
    "\n",
    "print(f\"Number of positive tweets = {total_positive}\")\n",
    "print(f\"Number of negative tweets = {total_negative}\")\n",
    "print(f\"Total number of tweets = {total_tweets}\")\n",
    "\n",
    "print(f\"p_positive = {p_positive}\")\n",
    "print(f\"p_negative = {p_negative}\")"
   ]
  },
  {
   "cell_type": "code",
   "execution_count": 21,
   "metadata": {
    "tags": []
   },
   "outputs": [
    {
     "data": {
      "text/plain": [
       "7"
      ]
     },
     "execution_count": 21,
     "metadata": {},
     "output_type": "execute_result"
    }
   ],
   "source": [
    "pivoted_dtm.loc[\"abaix\", 1]"
   ]
  },
  {
   "cell_type": "code",
   "execution_count": 22,
   "metadata": {
    "tags": []
   },
   "outputs": [
    {
     "data": {
      "text/plain": [
       "14"
      ]
     },
     "execution_count": 22,
     "metadata": {},
     "output_type": "execute_result"
    }
   ],
   "source": [
    "pivoted_dtm.loc[\"abaix\", 0]"
   ]
  },
  {
   "cell_type": "code",
   "execution_count": 23,
   "metadata": {
    "tags": []
   },
   "outputs": [
    {
     "data": {
      "text/html": [
       "<div>\n",
       "<style scoped>\n",
       "    .dataframe tbody tr th:only-of-type {\n",
       "        vertical-align: middle;\n",
       "    }\n",
       "\n",
       "    .dataframe tbody tr th {\n",
       "        vertical-align: top;\n",
       "    }\n",
       "\n",
       "    .dataframe thead th {\n",
       "        text-align: right;\n",
       "    }\n",
       "</style>\n",
       "<table border=\"1\" class=\"dataframe\">\n",
       "  <thead>\n",
       "    <tr style=\"text-align: right;\">\n",
       "      <th>target_value</th>\n",
       "      <th>0</th>\n",
       "      <th>1</th>\n",
       "    </tr>\n",
       "  </thead>\n",
       "  <tbody>\n",
       "    <tr>\n",
       "      <th>ab</th>\n",
       "      <td>3</td>\n",
       "      <td>4</td>\n",
       "    </tr>\n",
       "    <tr>\n",
       "      <th>abac</th>\n",
       "      <td>1</td>\n",
       "      <td>2</td>\n",
       "    </tr>\n",
       "    <tr>\n",
       "      <th>abacat</th>\n",
       "      <td>2</td>\n",
       "      <td>3</td>\n",
       "    </tr>\n",
       "    <tr>\n",
       "      <th>abacax</th>\n",
       "      <td>1</td>\n",
       "      <td>2</td>\n",
       "    </tr>\n",
       "    <tr>\n",
       "      <th>abaf</th>\n",
       "      <td>3</td>\n",
       "      <td>2</td>\n",
       "    </tr>\n",
       "    <tr>\n",
       "      <th>...</th>\n",
       "      <td>...</td>\n",
       "      <td>...</td>\n",
       "    </tr>\n",
       "    <tr>\n",
       "      <th>ℂℙ</th>\n",
       "      <td>1</td>\n",
       "      <td>2</td>\n",
       "    </tr>\n",
       "    <tr>\n",
       "      <th>ℕℂℕ</th>\n",
       "      <td>1</td>\n",
       "      <td>2</td>\n",
       "    </tr>\n",
       "    <tr>\n",
       "      <th>ℙℝ</th>\n",
       "      <td>1</td>\n",
       "      <td>2</td>\n",
       "    </tr>\n",
       "    <tr>\n",
       "      <th>스트레이키즈</th>\n",
       "      <td>1</td>\n",
       "      <td>2</td>\n",
       "    </tr>\n",
       "    <tr>\n",
       "      <th>제이크</th>\n",
       "      <td>1</td>\n",
       "      <td>2</td>\n",
       "    </tr>\n",
       "  </tbody>\n",
       "</table>\n",
       "<p>12569 rows × 2 columns</p>\n",
       "</div>"
      ],
      "text/plain": [
       "target_value  0  1\n",
       "ab            3  4\n",
       "abac          1  2\n",
       "abacat        2  3\n",
       "abacax        1  2\n",
       "abaf          3  2\n",
       "...          .. ..\n",
       "ℂℙ            1  2\n",
       "ℕℂℕ           1  2\n",
       "ℙℝ            1  2\n",
       "스트레이키즈        1  2\n",
       "제이크           1  2\n",
       "\n",
       "[12569 rows x 2 columns]"
      ]
     },
     "execution_count": 23,
     "metadata": {},
     "output_type": "execute_result"
    }
   ],
   "source": [
    "#adding alpha=1 to all counts\n",
    "\n",
    "pivoted_dtm[1] = pivoted_dtm[1] + 1\n",
    "pivoted_dtm[0] = pivoted_dtm[0] + 1\n",
    "\n",
    "pivoted_dtm"
   ]
  },
  {
   "cell_type": "code",
   "execution_count": 25,
   "metadata": {
    "tags": []
   },
   "outputs": [],
   "source": [
    "pivoted_dtm[\"p_word_given_positive\"] = pivoted_dtm[1] / total_positive"
   ]
  },
  {
   "cell_type": "code",
   "execution_count": 26,
   "metadata": {
    "tags": []
   },
   "outputs": [],
   "source": [
    "pivoted_dtm[\"p_word_given_negative\"] = pivoted_dtm[0] / total_negative"
   ]
  },
  {
   "cell_type": "code",
   "execution_count": 27,
   "metadata": {
    "tags": []
   },
   "outputs": [
    {
     "data": {
      "text/html": [
       "<div>\n",
       "<style scoped>\n",
       "    .dataframe tbody tr th:only-of-type {\n",
       "        vertical-align: middle;\n",
       "    }\n",
       "\n",
       "    .dataframe tbody tr th {\n",
       "        vertical-align: top;\n",
       "    }\n",
       "\n",
       "    .dataframe thead th {\n",
       "        text-align: right;\n",
       "    }\n",
       "</style>\n",
       "<table border=\"1\" class=\"dataframe\">\n",
       "  <thead>\n",
       "    <tr style=\"text-align: right;\">\n",
       "      <th>target_value</th>\n",
       "      <th>0</th>\n",
       "      <th>1</th>\n",
       "      <th>p_word_given_positive</th>\n",
       "      <th>p_word_given_negative</th>\n",
       "    </tr>\n",
       "  </thead>\n",
       "  <tbody>\n",
       "    <tr>\n",
       "      <th>ab</th>\n",
       "      <td>3</td>\n",
       "      <td>4</td>\n",
       "      <td>0.000253</td>\n",
       "      <td>0.000425</td>\n",
       "    </tr>\n",
       "    <tr>\n",
       "      <th>abac</th>\n",
       "      <td>1</td>\n",
       "      <td>2</td>\n",
       "      <td>0.000127</td>\n",
       "      <td>0.000142</td>\n",
       "    </tr>\n",
       "    <tr>\n",
       "      <th>abacat</th>\n",
       "      <td>2</td>\n",
       "      <td>3</td>\n",
       "      <td>0.000190</td>\n",
       "      <td>0.000283</td>\n",
       "    </tr>\n",
       "    <tr>\n",
       "      <th>abacax</th>\n",
       "      <td>1</td>\n",
       "      <td>2</td>\n",
       "      <td>0.000127</td>\n",
       "      <td>0.000142</td>\n",
       "    </tr>\n",
       "    <tr>\n",
       "      <th>abaf</th>\n",
       "      <td>3</td>\n",
       "      <td>2</td>\n",
       "      <td>0.000127</td>\n",
       "      <td>0.000425</td>\n",
       "    </tr>\n",
       "    <tr>\n",
       "      <th>...</th>\n",
       "      <td>...</td>\n",
       "      <td>...</td>\n",
       "      <td>...</td>\n",
       "      <td>...</td>\n",
       "    </tr>\n",
       "    <tr>\n",
       "      <th>ℂℙ</th>\n",
       "      <td>1</td>\n",
       "      <td>2</td>\n",
       "      <td>0.000127</td>\n",
       "      <td>0.000142</td>\n",
       "    </tr>\n",
       "    <tr>\n",
       "      <th>ℕℂℕ</th>\n",
       "      <td>1</td>\n",
       "      <td>2</td>\n",
       "      <td>0.000127</td>\n",
       "      <td>0.000142</td>\n",
       "    </tr>\n",
       "    <tr>\n",
       "      <th>ℙℝ</th>\n",
       "      <td>1</td>\n",
       "      <td>2</td>\n",
       "      <td>0.000127</td>\n",
       "      <td>0.000142</td>\n",
       "    </tr>\n",
       "    <tr>\n",
       "      <th>스트레이키즈</th>\n",
       "      <td>1</td>\n",
       "      <td>2</td>\n",
       "      <td>0.000127</td>\n",
       "      <td>0.000142</td>\n",
       "    </tr>\n",
       "    <tr>\n",
       "      <th>제이크</th>\n",
       "      <td>1</td>\n",
       "      <td>2</td>\n",
       "      <td>0.000127</td>\n",
       "      <td>0.000142</td>\n",
       "    </tr>\n",
       "  </tbody>\n",
       "</table>\n",
       "<p>12569 rows × 4 columns</p>\n",
       "</div>"
      ],
      "text/plain": [
       "target_value  0  1  p_word_given_positive  p_word_given_negative\n",
       "ab            3  4               0.000253               0.000425\n",
       "abac          1  2               0.000127               0.000142\n",
       "abacat        2  3               0.000190               0.000283\n",
       "abacax        1  2               0.000127               0.000142\n",
       "abaf          3  2               0.000127               0.000425\n",
       "...          .. ..                    ...                    ...\n",
       "ℂℙ            1  2               0.000127               0.000142\n",
       "ℕℂℕ           1  2               0.000127               0.000142\n",
       "ℙℝ            1  2               0.000127               0.000142\n",
       "스트레이키즈        1  2               0.000127               0.000142\n",
       "제이크           1  2               0.000127               0.000142\n",
       "\n",
       "[12569 rows x 4 columns]"
      ]
     },
     "execution_count": 27,
     "metadata": {},
     "output_type": "execute_result"
    }
   ],
   "source": [
    "pivoted_dtm"
   ]
  },
  {
   "cell_type": "code",
   "execution_count": 28,
   "metadata": {
    "tags": []
   },
   "outputs": [
    {
     "name": "stdout",
     "output_type": "stream",
     "text": [
      "semana 0.00012669453946534905\n",
      "vai 0.0266058532877233\n",
      "tar 0.0015836817433168631\n",
      "bue 0.00924870138097048\n",
      "3.412099820555234e-11\n",
      "semana 0.0001417233560090703\n",
      "vai 0.037273242630385485\n",
      "tar 0.002551020408163265\n",
      "bue 0.011479591836734694\n",
      "4.778630260275164e-11\n",
      "0.41658066947425354\n",
      "0.5834193305257463\n"
     ]
    }
   ],
   "source": [
    "# IMPROVE THIS - right now it takes the whole dataset as a training set. Implement stratified k-fold cross validation. Return/print not just the output class, but also \n",
    "# the words with their respective probabilities\n",
    "\n",
    "# This function requires the input text to already be cleaned up in the same way as when I created the training dataset.\n",
    "# Therefore I also need to create a .py file with the functions I used for data cleaning, so that I can import them here\n",
    "\n",
    "def multinomial_nb_from_scratch(clean_text):    \n",
    "    clean_text = [i for i in clean_text.split() if i in pivoted_dtm.index]\n",
    "    \n",
    "    prob_positive = p_positive\n",
    "    for word in clean_text:\n",
    "        prob_positive = prob_positive * pivoted_dtm.loc[word, \"p_word_given_positive\"]\n",
    "        print(word, pivoted_dtm.loc[word, \"p_word_given_positive\"])\n",
    "    print(prob_positive)\n",
    "    \n",
    "    prob_negative = p_negative\n",
    "    for word in clean_text:\n",
    "        prob_negative = prob_negative * pivoted_dtm.loc[word, \"p_word_given_negative\"]\n",
    "        print(word, pivoted_dtm.loc[word, \"p_word_given_negative\"])\n",
    "    print(prob_negative)\n",
    "    \n",
    "    print(prob_positive/(prob_positive + prob_negative))\n",
    "    print(prob_negative/(prob_positive + prob_negative))\n",
    "\n",
    "multinomial_nb_from_scratch(\"Esta semana vai tar bue cocó\")"
   ]
  },
  {
   "cell_type": "code",
   "execution_count": null,
   "metadata": {},
   "outputs": [],
   "source": []
  }
 ],
 "metadata": {
  "kernelspec": {
   "display_name": "Python 3 (ipykernel)",
   "language": "python",
   "name": "python3"
  },
  "language_info": {
   "codemirror_mode": {
    "name": "ipython",
    "version": 3
   },
   "file_extension": ".py",
   "mimetype": "text/x-python",
   "name": "python",
   "nbconvert_exporter": "python",
   "pygments_lexer": "ipython3",
   "version": "3.9.6"
  }
 },
 "nbformat": 4,
 "nbformat_minor": 4
}
